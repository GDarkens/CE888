{
 "cells": [
  {
   "cell_type": "markdown",
   "metadata": {},
   "source": [
    "# Sentiment Model"
   ]
  },
  {
   "cell_type": "code",
   "execution_count": 1,
   "metadata": {},
   "outputs": [
    {
     "name": "stdout",
     "output_type": "stream",
     "text": [
      "Requirement already satisfied: keras in c:\\programdata\\anaconda3\\lib\\site-packages (2.4.3)\n",
      "Requirement already satisfied: scipy>=0.14 in c:\\programdata\\anaconda3\\lib\\site-packages (from keras) (1.5.2)\n",
      "Requirement already satisfied: pyyaml in c:\\programdata\\anaconda3\\lib\\site-packages (from keras) (5.3.1)\n",
      "Requirement already satisfied: numpy>=1.9.1 in c:\\programdata\\anaconda3\\lib\\site-packages (from keras) (1.19.2)\n",
      "Requirement already satisfied: h5py in c:\\programdata\\anaconda3\\lib\\site-packages (from keras) (2.10.0)\n",
      "Requirement already satisfied: six in c:\\programdata\\anaconda3\\lib\\site-packages (from h5py->keras) (1.15.0)\n",
      "Requirement already satisfied: sklearn in c:\\programdata\\anaconda3\\lib\\site-packages (0.0)\n",
      "Requirement already satisfied: scikit-learn in c:\\programdata\\anaconda3\\lib\\site-packages (from sklearn) (0.23.2)\n",
      "Requirement already satisfied: joblib>=0.11 in c:\\programdata\\anaconda3\\lib\\site-packages (from scikit-learn->sklearn) (0.17.0)\n",
      "Requirement already satisfied: threadpoolctl>=2.0.0 in c:\\programdata\\anaconda3\\lib\\site-packages (from scikit-learn->sklearn) (2.1.0)\n",
      "Requirement already satisfied: scipy>=0.19.1 in c:\\programdata\\anaconda3\\lib\\site-packages (from scikit-learn->sklearn) (1.5.2)\n",
      "Requirement already satisfied: numpy>=1.13.3 in c:\\programdata\\anaconda3\\lib\\site-packages (from scikit-learn->sklearn) (1.19.2)\n",
      "Requirement already satisfied: nltk in c:\\programdata\\anaconda3\\lib\\site-packages (3.5)\n",
      "Requirement already satisfied: tqdm in c:\\programdata\\anaconda3\\lib\\site-packages (from nltk) (4.50.2)\n",
      "Requirement already satisfied: joblib in c:\\programdata\\anaconda3\\lib\\site-packages (from nltk) (0.17.0)\n",
      "Requirement already satisfied: click in c:\\programdata\\anaconda3\\lib\\site-packages (from nltk) (7.1.2)\n",
      "Requirement already satisfied: regex in c:\\programdata\\anaconda3\\lib\\site-packages (from nltk) (2020.10.15)\n",
      "Requirement already satisfied: transformers in c:\\programdata\\anaconda3\\lib\\site-packages (4.3.2)\n",
      "Requirement already satisfied: numpy>=1.17 in c:\\programdata\\anaconda3\\lib\\site-packages (from transformers) (1.19.2)\n",
      "Requirement already satisfied: tqdm>=4.27 in c:\\programdata\\anaconda3\\lib\\site-packages (from transformers) (4.50.2)\n",
      "Requirement already satisfied: requests in c:\\programdata\\anaconda3\\lib\\site-packages (from transformers) (2.24.0)\n",
      "Requirement already satisfied: tokenizers<0.11,>=0.10.1 in c:\\programdata\\anaconda3\\lib\\site-packages (from transformers) (0.10.1)\n",
      "Requirement already satisfied: sacremoses in c:\\programdata\\anaconda3\\lib\\site-packages (from transformers) (0.0.43)\n",
      "Requirement already satisfied: packaging in c:\\programdata\\anaconda3\\lib\\site-packages (from transformers) (20.4)\n",
      "Requirement already satisfied: regex!=2019.12.17 in c:\\programdata\\anaconda3\\lib\\site-packages (from transformers) (2020.10.15)\n",
      "Requirement already satisfied: filelock in c:\\programdata\\anaconda3\\lib\\site-packages (from transformers) (3.0.12)\n",
      "Requirement already satisfied: urllib3!=1.25.0,!=1.25.1,<1.26,>=1.21.1 in c:\\programdata\\anaconda3\\lib\\site-packages (from requests->transformers) (1.25.11)\n",
      "Requirement already satisfied: chardet<4,>=3.0.2 in c:\\programdata\\anaconda3\\lib\\site-packages (from requests->transformers) (3.0.4)\n",
      "Requirement already satisfied: certifi>=2017.4.17 in c:\\programdata\\anaconda3\\lib\\site-packages (from requests->transformers) (2020.6.20)\n",
      "Requirement already satisfied: idna<3,>=2.5 in c:\\programdata\\anaconda3\\lib\\site-packages (from requests->transformers) (2.10)\n",
      "Requirement already satisfied: six in c:\\programdata\\anaconda3\\lib\\site-packages (from sacremoses->transformers) (1.15.0)\n",
      "Requirement already satisfied: joblib in c:\\programdata\\anaconda3\\lib\\site-packages (from sacremoses->transformers) (0.17.0)\n",
      "Requirement already satisfied: click in c:\\programdata\\anaconda3\\lib\\site-packages (from sacremoses->transformers) (7.1.2)\n",
      "Requirement already satisfied: pyparsing>=2.0.2 in c:\\programdata\\anaconda3\\lib\\site-packages (from packaging->transformers) (2.4.7)\n"
     ]
    }
   ],
   "source": [
    "!pip install keras\n",
    "!pip install sklearn\n",
    "!pip install nltk\n",
    "!pip install transformers\n",
    "\n",
    "import matplotlib.pyplot as mpl\n",
    "import pandas as pd\n",
    "import numpy as np\n",
    "from pathlib import Path\n",
    "from urllib.request import urlopen\n",
    "import numpy as np\n",
    "import tensorflow as tf\n",
    "from urllib.request import urlopen\n",
    "import nltk\n",
    "import seaborn\n",
    "from sklearn.svm import SVC\n",
    "from sklearn.feature_extraction.text import CountVectorizer, TfidfTransformer\n",
    "from sklearn import metrics\n",
    "from sklearn.pipeline import FeatureUnion, Pipeline \n",
    "from sklearn.svm import LinearSVC\n",
    "from sklearn.model_selection import GridSearchCV\n",
    "from sklearn.dummy import DummyClassifier\n",
    "from sklearn.tree import DecisionTreeClassifier\n",
    "from nltk.stem.snowball import SnowballStemmer\n",
    "from nltk import word_tokenize, pos_tag_sents\n",
    "from nltk.corpus import stopwords\n",
    "from nltk.tokenize import RegexpTokenizer, word_tokenize\n",
    "from keras.preprocessing.sequence import pad_sequences\n",
    "from nltk.util import pad_sequence\n",
    "from nltk.tokenize.treebank import TreebankWordDetokenizer\n",
    "from sklearn.model_selection import train_test_split\n",
    "from sklearn.feature_extraction.text import CountVectorizer, TfidfVectorizer\n",
    "from sklearn.ensemble import RandomForestClassifier\n",
    "from sklearn.metrics import classification_report, f1_score, confusion_matrix\n",
    "from sklearn.metrics import precision_recall_fscore_support as score\n",
    "from sklearn.pipeline import Pipeline\n",
    "from keras.preprocessing.text import Tokenizer"
   ]
  },
  {
   "cell_type": "code",
   "execution_count": 2,
   "metadata": {},
   "outputs": [],
   "source": [
    "def importSentimentDatasets(dataset_name):\n",
    "    # Download a given dataset from GitHub CDN\n",
    "    # Data cast to global values\n",
    "\n",
    "    baseUrl = \"https://raw.githubusercontent.com/GDarkens/CE888/main/Assignments/Assignment1/tweeteval/datasets/\"\n",
    "\n",
    "    MAPPING_URL = baseUrl + dataset_name + \"/\" + \"mapping.txt\"\n",
    "    global mapping\n",
    "    mapping = urlopen(MAPPING_URL).read().decode('utf-8').split(\"\\n\")\n",
    "\n",
    "    TEST_LABELS_URL = baseUrl + dataset_name + \"/\" + \"test_labels.txt\"\n",
    "    global test_labels\n",
    "    test_labels = urlopen(\n",
    "        TEST_LABELS_URL).read().decode('utf-8').split(\"\\n\")\n",
    "\n",
    "    TEST_TEXT_URL = baseUrl + dataset_name + \"/\" + \"test_text.txt\"\n",
    "    global test_text\n",
    "    test_text = urlopen(\n",
    "        TEST_TEXT_URL).read().decode('utf-8').split(\"\\n\")\n",
    "\n",
    "    TRAIN_LABELS_URL = baseUrl + dataset_name + \"/\" + \"train_labels.txt\"\n",
    "    global train_labels\n",
    "    train_labels = urlopen(\n",
    "        TRAIN_LABELS_URL).read().decode('utf-8').split(\"\\n\")\n",
    "\n",
    "    TRAIN_TEXT_URL = baseUrl + dataset_name + \"/\" + \"train_text.txt\"\n",
    "    global train_text\n",
    "    train_text = urlopen(\n",
    "        TRAIN_TEXT_URL).read().decode('utf-8').split(\"\\n\")\n",
    "\n",
    "    VAL_LABELS_URL = baseUrl + dataset_name + \"/\" + \"val_labels.txt\"\n",
    "    global val_labels\n",
    "    val_labels = urlopen(\n",
    "        VAL_LABELS_URL).read().decode('utf-8').split(\"\\n\")\n",
    "\n",
    "    VAL_TEXT_URL = baseUrl + dataset_name + \"/\" + \"val_text.txt\"\n",
    "    global val_text\n",
    "    val_text = urlopen(\n",
    "        VAL_TEXT_URL).read().decode('utf-8').split(\"\\n\")"
   ]
  },
  {
   "cell_type": "code",
   "execution_count": 3,
   "metadata": {},
   "outputs": [],
   "source": [
    "def dataFramer(tweetVar, labelVar):\n",
    "    #Suitably frames tweets, pairing them with their given label\n",
    "    tweet_array = []\n",
    "    label_array = []\n",
    "    for i in range(len(tweetVar)):\n",
    "        tweet_array.append({\"tweet\": tweetVar[i], \"label\": labelVar[i]})\n",
    "        label_array.append(i)\n",
    "    dataframe = pd.DataFrame(tweet_array, index=label_array)\n",
    "    dataframe = dataframe[:-1]  # Drop last row, as is a blank\n",
    "    return dataframe"
   ]
  },
  {
   "cell_type": "code",
   "execution_count": 4,
   "metadata": {},
   "outputs": [],
   "source": [
    "importSentimentDatasets(\"sentiment\")  # emoji  / hate /  sentiment\n",
    "\n",
    "trainingTweets = dataFramer(train_text, train_labels)\n",
    "testingTweets = dataFramer(test_text, test_labels)\n",
    "valTweets = dataFramer(val_text, val_labels)"
   ]
  },
  {
   "cell_type": "code",
   "execution_count": null,
   "metadata": {},
   "outputs": [],
   "source": []
  },
  {
   "cell_type": "markdown",
   "metadata": {},
   "source": [
    "## Text Pre-processing"
   ]
  },
  {
   "cell_type": "code",
   "execution_count": 5,
   "metadata": {},
   "outputs": [],
   "source": [
    "def fullyProcess(tweetFrame):\n",
    "    # conda activate myenv\n",
    "    tweetFrame['processed_tweet'] = tweetFrame['tweet'].str.lower()\n",
    "    tweetFrame['processed_tweet'] = handleRemover(tweetFrame)\n",
    "    tweetFrame['processed_tweet'] = punctuationRemover(tweetFrame)\n",
    "    tweetFrame['processed_tweet'] = stopwordRemoval(tweetFrame)\n",
    "    tweetFrame['processed_tweet'] = stemmer(tweetFrame)\n",
    "    tweetFrame['processed_tweet'] = tweetFrame['processed_tweet'].str.strip()\n",
    "    #tweetFrame['processed_tweet'] = tokenizeSequencePadder((tweetFrame))\n",
    "    \n",
    "    #tweetFrame['length'] = tweetFrame['processed_tweet'].apply(lambda x: len(x))\n",
    "    #tweetFrame['words'] = tweetFrame['processed_tweet'].apply(lambda x: len(x.split()))\n",
    "    return tweetFrame\n",
    "\n",
    "\n",
    "def stopwordRemoval(tweetFrame):\n",
    "    en_Stopwords = stopwords.words(\"english\")\n",
    "    result = tweetFrame['processed_tweet'].apply(lambda x: ' '.join(\n",
    "        [item for item in x.split() if item not in en_Stopwords]))\n",
    "    return result\n",
    "\n",
    "\n",
    "puncTokenizer = RegexpTokenizer(r'\\w+')\n",
    "def punctuationRemover(tweetFrame):\n",
    "    result = tweetFrame['processed_tweet'].str.replace(r'[^\\w\\s]+', '')\n",
    "    return result\n",
    "\n",
    "\n",
    "def tokenizeSequencePadder(tweetFrame):\n",
    "    nltkTokenizer = Tokenizer(num_words = 15000)\n",
    "    nltkTokenizer.fit_on_texts(tweetFrame['processed_tweet'])\n",
    "    \n",
    "    tokenizedFrame = nltkTokenizer.texts_to_sequences(tweetFrame['processed_tweet'])\n",
    "    paddedFrame = pad_sequences(tokenizedFrame, padding = 'post', maxlen = 40)\n",
    "    return paddedFrame\n",
    "\n",
    "\n",
    "def tokenizer(tweetFrame):\n",
    "    result = tweetFrame['tweet'].apply(nltk.word_tokenize)\n",
    "    return result\n",
    "\n",
    "\n",
    "def stemmer(tweetFrame):\n",
    "    result = tweetFrame['processed_tweet'].apply(stem_sentences)\n",
    "    return result\n",
    "\n",
    "\n",
    "def stem_sentences(tweet):\n",
    "    stemmer = SnowballStemmer('english')\n",
    "    tokenized = tweet.split()\n",
    "    stemmed = [stemmer.stem(token) for token in tokenized]\n",
    "    return ' '.join(stemmed)\n",
    "\n",
    "\n",
    "def handleRemover(tweetFrame):\n",
    "    result = tweetFrame['processed_tweet'].str.replace('@user', '')\n",
    "    return result"
   ]
  },
  {
   "cell_type": "code",
   "execution_count": 6,
   "metadata": {},
   "outputs": [
    {
     "name": "stdout",
     "output_type": "stream",
     "text": [
      "Wall time: 9.19 s\n"
     ]
    }
   ],
   "source": [
    "%%time\n",
    "\n",
    "train_processedTweets = fullyProcess(trainingTweets)\n",
    "test_processedTweets = fullyProcess(testingTweets)\n",
    "val_processedTweets = fullyProcess(valTweets)"
   ]
  },
  {
   "cell_type": "code",
   "execution_count": 7,
   "metadata": {},
   "outputs": [],
   "source": [
    "# Vectorization of sets\n",
    "vectorizer = CountVectorizer(input = 'content', analyzer = 'word', max_features = 5000)\n",
    "\n",
    "train_x = train_processedTweets['processed_tweet']\n",
    "test_x = test_processedTweets['processed_tweet']\n",
    "val_x = val_processedTweets['processed_tweet']\n",
    "\n",
    "train_y = train_processedTweets['label']\n",
    "test_y = test_processedTweets['label']\n",
    "val_y = val_processedTweets['label']\n",
    "\n",
    "\n",
    "# ! N.B. Only training set fitted to model !\n",
    "vectorTrainProc = vectorizer.fit_transform(train_x)\n",
    "\n",
    "vectorTestProc = vectorizer.transform(test_x)\n",
    "vectorTalProc = vectorizer.transform(val_x)\n",
    "\n"
   ]
  },
  {
   "cell_type": "markdown",
   "metadata": {},
   "source": [
    "## Dummy Classification"
   ]
  },
  {
   "cell_type": "markdown",
   "metadata": {},
   "source": [
    "#### 'stratified' Dummy Classification"
   ]
  },
  {
   "cell_type": "code",
   "execution_count": 8,
   "metadata": {},
   "outputs": [],
   "source": [
    "train_y = trainingTweets['label']\n",
    "\n",
    "dummyClassifier = DummyClassifier(strategy = 'stratified')\n",
    "dummyClassifier = dummyClassifier.fit(vectorTrainProc, train_y)"
   ]
  },
  {
   "cell_type": "code",
   "execution_count": 9,
   "metadata": {},
   "outputs": [
    {
     "name": "stdout",
     "output_type": "stream",
     "text": [
      "__STRATIFIED DUMMY CLASSIFIER RESULTS__ \n",
      "\n",
      "Accuracy:  0.3425594268967763\n",
      "F1 Macro:  0.30909151154467335 \n",
      "\n",
      "Clasification Report:  \n",
      "               precision    recall  f1-score   support\n",
      "\n",
      "           0       0.33      0.15      0.21      3972\n",
      "           1       0.48      0.45      0.46      5937\n",
      "           2       0.19      0.38      0.25      2375\n",
      "\n",
      "    accuracy                           0.34     12284\n",
      "   macro avg       0.33      0.33      0.31     12284\n",
      "weighted avg       0.37      0.34      0.34     12284\n",
      "\n"
     ]
    }
   ],
   "source": [
    "dummyPredictions = dummyClassifier.predict(vectorTestProc)\n",
    "\n",
    "print('__STRATIFIED DUMMY CLASSIFIER RESULTS__', \"\\n\")\n",
    "print('Accuracy: ', metrics.accuracy_score(test_y, dummyPredictions))\n",
    "print('F1 Macro: ', metrics.f1_score(test_y, dummyPredictions, average = 'macro'), \"\\n\")\n",
    "print('Clasification Report: ', \"\\n\" , metrics.classification_report(test_y, dummyPredictions, zero_division = 0))"
   ]
  },
  {
   "cell_type": "code",
   "execution_count": 10,
   "metadata": {},
   "outputs": [
    {
     "data": {
      "text/plain": [
       "<AxesSubplot:>"
      ]
     },
     "execution_count": 10,
     "metadata": {},
     "output_type": "execute_result"
    },
    {
     "data": {
      "image/png": "[encoded data removed]",
      "text/plain": [
       "<Figure size 432x288 with 2 Axes>"
      ]
     },
     "metadata": {
      "needs_background": "light"
     },
     "output_type": "display_data"
    }
   ],
   "source": [
    "confusionMatrix = confusion_matrix(test_y, dummyPredictions)\n",
    "seaborn.heatmap(confusionMatrix, annot = True, fmt = \".0f\")"
   ]
  },
  {
   "cell_type": "markdown",
   "metadata": {},
   "source": [
    "#### 'most_frequent' Dummy Classification"
   ]
  },
  {
   "cell_type": "code",
   "execution_count": 11,
   "metadata": {},
   "outputs": [],
   "source": [
    "dummyClassifier = DummyClassifier(strategy = 'most_frequent')\n",
    "dummyClassifier = dummyClassifier.fit(vectorTrainProc, train_y)"
   ]
  },
  {
   "cell_type": "code",
   "execution_count": 12,
   "metadata": {},
   "outputs": [
    {
     "name": "stdout",
     "output_type": "stream",
     "text": [
      "__MOST_FREQ. DUMMY CLASSIFIER RESULTS__ \n",
      "\n",
      "Accuracy:  0.4833116248778899\n",
      "F1 Macro:  0.217221886833873 \n",
      "\n",
      "Clasification Report:  \n",
      "               precision    recall  f1-score   support\n",
      "\n",
      "           0       0.00      0.00      0.00      3972\n",
      "           1       0.48      1.00      0.65      5937\n",
      "           2       0.00      0.00      0.00      2375\n",
      "\n",
      "    accuracy                           0.48     12284\n",
      "   macro avg       0.16      0.33      0.22     12284\n",
      "weighted avg       0.23      0.48      0.31     12284\n",
      "\n"
     ]
    }
   ],
   "source": [
    "dummyPredictions = dummyClassifier.predict(vectorTestProc)\n",
    "\n",
    "print('__MOST_FREQ. DUMMY CLASSIFIER RESULTS__',  \"\\n\" )\n",
    "print('Accuracy: ', metrics.accuracy_score(test_y, dummyPredictions))\n",
    "print('F1 Macro: ', metrics.f1_score(test_y, dummyPredictions, average = 'macro'), \"\\n\")\n",
    "print('Clasification Report: ', \"\\n\" , metrics.classification_report(test_y, dummyPredictions, zero_division = 0))"
   ]
  },
  {
   "cell_type": "code",
   "execution_count": 13,
   "metadata": {},
   "outputs": [
    {
     "data": {
      "text/plain": [
       "<AxesSubplot:>"
      ]
     },
     "execution_count": 13,
     "metadata": {},
     "output_type": "execute_result"
    },
    {
     "data": {
      "image/png": "[encoded data removed]",
      "text/plain": [
       "<Figure size 432x288 with 2 Axes>"
      ]
     },
     "metadata": {
      "needs_background": "light"
     },
     "output_type": "display_data"
    }
   ],
   "source": [
    "confusionMatrix = confusion_matrix(test_y, dummyPredictions)\n",
    "seaborn.heatmap(confusionMatrix, annot = True, fmt = \".0f\")"
   ]
  },
  {
   "cell_type": "markdown",
   "metadata": {},
   "source": [
    "## Decision Tree Classification"
   ]
  },
  {
   "cell_type": "code",
   "execution_count": 14,
   "metadata": {},
   "outputs": [
    {
     "name": "stdout",
     "output_type": "stream",
     "text": [
      "Fitting 5 folds for each of 30 candidates, totalling 150 fits\n"
     ]
    },
    {
     "name": "stderr",
     "output_type": "stream",
     "text": [
      "[Parallel(n_jobs=6)]: Using backend LokyBackend with 6 concurrent workers.\n",
      "[Parallel(n_jobs=6)]: Done  38 tasks      | elapsed:    7.4s\n",
      "[Parallel(n_jobs=6)]: Done 150 out of 150 | elapsed:   10.0s finished\n"
     ]
    }
   ],
   "source": [
    "from sklearn.tree import DecisionTreeClassifier\n",
    "from sklearn.model_selection import GridSearchCV\n",
    "decisionTreeClassif = DecisionTreeClassifier(criterion = \"entropy\", min_samples_split = 10)\n",
    "params = {\n",
    "    'criterion' : [\"entropy\", \"gini\"],\n",
    "    'max_depth':[2,4,6,8,10],\n",
    "    \"max_features\": ['auto', 'log2', 'sqrt']\n",
    "}\n",
    "\n",
    "gridSCV = GridSearchCV(estimator = decisionTreeClassif, param_grid = params, scoring = 'f1_macro',  cv = 5, n_jobs = 6, verbose = 1)\n",
    "gridSCV.fit(vectorTrainProc, train_y)\n",
    "decisionTreeClassif = decisionTreeClassif.fit(vectorTrainProc, train_y)"
   ]
  },
  {
   "cell_type": "code",
   "execution_count": 18,
   "metadata": {},
   "outputs": [
    {
     "name": "stdout",
     "output_type": "stream",
     "text": [
      "__DECISION TREE CLASSIFIER RESULTS__ \n",
      "\n",
      "Accuracy:  0.5262943666558124\n",
      "F1 Macro:  0.4905505218315492 \n",
      "\n",
      "Clasification Report:  \n",
      "               precision    recall  f1-score   support\n",
      "\n",
      "           0       0.55      0.29      0.38      3972\n",
      "           1       0.56      0.68      0.61      5937\n",
      "           2       0.43      0.53      0.48      2375\n",
      "\n",
      "    accuracy                           0.53     12284\n",
      "   macro avg       0.51      0.50      0.49     12284\n",
      "weighted avg       0.53      0.53      0.51     12284\n",
      "\n"
     ]
    }
   ],
   "source": [
    "treePredictions = decisionTreeClassif.predict(vectorTestProc)\n",
    "\n",
    "\n",
    "print('__DECISION TREE CLASSIFIER RESULTS__',  \"\\n\" )\n",
    "print('Accuracy: ', metrics.accuracy_score(test_y, treePredictions))\n",
    "print('F1 Macro: ', metrics.f1_score(test_y, treePredictions, average = 'macro'), \"\\n\")\n",
    "print('Clasification Report: ', \"\\n\" , metrics.classification_report(test_y, treePredictions, zero_division = 0))"
   ]
  },
  {
   "cell_type": "code",
   "execution_count": 19,
   "metadata": {},
   "outputs": [
    {
     "data": {
      "text/plain": [
       "<AxesSubplot:>"
      ]
     },
     "execution_count": 19,
     "metadata": {},
     "output_type": "execute_result"
    },
    {
     "data": {
      "image/png": "[encoded data removed]",
      "text/plain": [
       "<Figure size 432x288 with 2 Axes>"
      ]
     },
     "metadata": {
      "needs_background": "light"
     },
     "output_type": "display_data"
    }
   ],
   "source": [
    "confusionMatrix = confusion_matrix(test_y, treePredictions)\n",
    "seaborn.heatmap(confusionMatrix, annot = True, fmt = \".0f\")"
   ]
  },
  {
   "cell_type": "markdown",
   "metadata": {},
   "source": [
    "## C-Support Vector Classification (VERY LONG FITTING TIME)"
   ]
  },
  {
   "cell_type": "markdown",
   "metadata": {},
   "source": [
    "### At this time, seems as if CSVC can cause a kernel to never release, nor interupt cleanly. You may have to restart Jupyter should this occur."
   ]
  },
  {
   "cell_type": "code",
   "execution_count": 20,
   "metadata": {},
   "outputs": [
    {
     "name": "stdout",
     "output_type": "stream",
     "text": [
      "Fitting 3 folds for each of 2 candidates, totalling 6 fits\n"
     ]
    },
    {
     "name": "stderr",
     "output_type": "stream",
     "text": [
      "[Parallel(n_jobs=6)]: Using backend LokyBackend with 6 concurrent workers.\n",
      "[Parallel(n_jobs=6)]: Done   2 out of   6 | elapsed:  5.8min remaining: 11.5min\n",
      "[Parallel(n_jobs=6)]: Done   6 out of   6 | elapsed:  9.5min finished\n"
     ]
    },
    {
     "name": "stdout",
     "output_type": "stream",
     "text": [
      "[LibSVM]Wall time: 22min 13s\n"
     ]
    }
   ],
   "source": [
    "%%time\n",
    "cSuppVector = SVC(C = 1, verbose = 1)\n",
    "params = {\n",
    "    'gamma' : ['scale', 'auto'],\n",
    "    #'kernel':['linear', 'poly', 'rbf', 'sigmoid'],\n",
    "    #'decision_function_shape': ['ovo', 'ovr']\n",
    "}\n",
    "              \n",
    "cSuppVector = GridSearchCV(estimator = cSuppVector, param_grid = params,cv = 3, scoring = 'f1_macro', n_jobs = 6, verbose = 1)\n",
    "cSuppVector = cSuppVector.fit(vectorTrainProc, train_y)"
   ]
  },
  {
   "cell_type": "code",
   "execution_count": 21,
   "metadata": {},
   "outputs": [
    {
     "name": "stdout",
     "output_type": "stream",
     "text": [
      "__C-SUPPORT VECTOR CLASSIFIER RESULTS__ \n",
      "\n",
      "Accuracy:  0.5869423640507978\n",
      "F1 Macro:  0.5294890385103702 \n",
      "\n",
      "Clasification Report:  \n",
      "               precision    recall  f1-score   support\n",
      "\n",
      "           0       0.73      0.26      0.39      3972\n",
      "           1       0.56      0.85      0.68      5937\n",
      "           2       0.59      0.47      0.52      2375\n",
      "\n",
      "    accuracy                           0.59     12284\n",
      "   macro avg       0.63      0.53      0.53     12284\n",
      "weighted avg       0.62      0.59      0.55     12284\n",
      "\n"
     ]
    }
   ],
   "source": [
    "cSuppVectorPredictions = cSuppVector.predict(vectorTestProc)\n",
    "\n",
    "\n",
    "print('__C-SUPPORT VECTOR CLASSIFIER RESULTS__',  \"\\n\" )\n",
    "print('Accuracy: ', metrics.accuracy_score(test_y, cSuppVectorPredictions))\n",
    "print('F1 Macro: ', metrics.f1_score(test_y, cSuppVectorPredictions, average = 'macro'), \"\\n\")\n",
    "print('Clasification Report: ', \"\\n\" , metrics.classification_report(test_y, cSuppVectorPredictions, zero_division = 0))"
   ]
  },
  {
   "cell_type": "code",
   "execution_count": 22,
   "metadata": {},
   "outputs": [
    {
     "data": {
      "text/plain": [
       "<AxesSubplot:>"
      ]
     },
     "execution_count": 22,
     "metadata": {},
     "output_type": "execute_result"
    },
    {
     "data": {
      "image/png": "[encoded data removed]",
      "text/plain": [
       "<Figure size 432x288 with 2 Axes>"
      ]
     },
     "metadata": {
      "needs_background": "light"
     },
     "output_type": "display_data"
    }
   ],
   "source": [
    "confusionMatrix = confusion_matrix(test_y, cSuppVectorPredictions)\n",
    "seaborn.heatmap(confusionMatrix, annot = True, fmt = \".0f\")"
   ]
  },
  {
   "cell_type": "markdown",
   "metadata": {},
   "source": [
    "## Linear SVC "
   ]
  },
  {
   "cell_type": "code",
   "execution_count": 19,
   "metadata": {},
   "outputs": [
    {
     "name": "stdout",
     "output_type": "stream",
     "text": [
      "Fitting 3 folds for each of 8 candidates, totalling 24 fits\n"
     ]
    },
    {
     "name": "stderr",
     "output_type": "stream",
     "text": [
      "[Parallel(n_jobs=6)]: Using backend LokyBackend with 6 concurrent workers.\n",
      "[Parallel(n_jobs=6)]: Done  24 out of  24 | elapsed:   25.8s finished\n"
     ]
    },
    {
     "data": {
      "text/plain": [
       "GridSearchCV(cv=3,\n",
       "             estimator=Pipeline(steps=[('union',\n",
       "                                        FeatureUnion(transformer_list=[('word_vec',\n",
       "                                                                        CountVectorizer()),\n",
       "                                                                       ('char_vec',\n",
       "                                                                        CountVectorizer(analyzer='char'))])),\n",
       "                                       ('transform', TfidfTransformer()),\n",
       "                                       ('clf',\n",
       "                                        LinearSVC(C=0.1,\n",
       "                                                  class_weight='balanced',\n",
       "                                                  multi_class='crammer_singer'))]),\n",
       "             n_jobs=6,\n",
       "             param_grid={'clf__loss': ['hinge', 'squared_hinge'],\n",
       "                         'union__char_vec__binary': [True, False],\n",
       "                         'union__word_vec__binary': [True, False]},\n",
       "             scoring='f1_macro', verbose=1)"
      ]
     },
     "execution_count": 19,
     "metadata": {},
     "output_type": "execute_result"
    }
   ],
   "source": [
    "from sklearn.feature_extraction.text import CountVectorizer, TfidfTransformer\n",
    "from sklearn.pipeline import FeatureUnion, Pipeline \n",
    "from sklearn.svm import LinearSVC\n",
    "estPipe = Pipeline([('union', FeatureUnion([\n",
    "                    ('word_vec', CountVectorizer(analyzer = 'word')),\n",
    "                    ('char_vec', CountVectorizer(analyzer = 'char'))\n",
    "                ])),\n",
    "                    ('transform', TfidfTransformer()),\n",
    "                    ('clf', LinearSVC(C = 0.10, class_weight = 'balanced', multi_class = 'crammer_singer'\n",
    "                ))])\n",
    "\n",
    "params = {\n",
    "    'union__char_vec__binary': [True, False],\n",
    "    'union__word_vec__binary': [True, False],\n",
    "    'clf__loss': ['hinge', 'squared_hinge'],\n",
    "}\n",
    "\n",
    "grid_search = GridSearchCV(estimator = estPipe, param_grid = params, cv = 3, scoring = 'f1_macro', n_jobs = 6, verbose = 1)\n",
    "grid_search.fit(train_x, train_y)"
   ]
  },
  {
   "cell_type": "code",
   "execution_count": 20,
   "metadata": {},
   "outputs": [
    {
     "name": "stdout",
     "output_type": "stream",
     "text": [
      "__LINEAR SC CLASSIFIER RESULTS__ \n",
      "\n",
      "Accuracy:  0.5559264083360469\n",
      "F1 Macro:  0.5514453700003258 \n",
      "\n",
      "Clasification Report:  \n",
      "               precision    recall  f1-score   support\n",
      "\n",
      "           0       0.50      0.82      0.62      3972\n",
      "           1       0.69      0.37      0.48      5937\n",
      "           2       0.53      0.57      0.55      2375\n",
      "\n",
      "    accuracy                           0.56     12284\n",
      "   macro avg       0.57      0.59      0.55     12284\n",
      "weighted avg       0.60      0.56      0.54     12284\n",
      "\n"
     ]
    }
   ],
   "source": [
    "cSuppVectorPredictions = grid_search.predict(test_x)\n",
    "\n",
    "\n",
    "print('__LINEAR SC CLASSIFIER RESULTS__',  \"\\n\" )\n",
    "print('Accuracy: ', metrics.accuracy_score(test_y, cSuppVectorPredictions))\n",
    "print('F1 Macro: ', metrics.f1_score(test_y, cSuppVectorPredictions, average = 'macro'), \"\\n\")\n",
    "print('Clasification Report: ', \"\\n\" , metrics.classification_report(test_y, cSuppVectorPredictions, zero_division = 0))"
   ]
  },
  {
   "cell_type": "code",
   "execution_count": 23,
   "metadata": {},
   "outputs": [
    {
     "data": {
      "text/plain": [
       "<AxesSubplot:>"
      ]
     },
     "execution_count": 23,
     "metadata": {},
     "output_type": "execute_result"
    },
    {
     "data": {
      "image/png": "[encoded data removed]",
      "text/plain": [
       "<Figure size 432x288 with 2 Axes>"
      ]
     },
     "metadata": {
      "needs_background": "light"
     },
     "output_type": "display_data"
    }
   ],
   "source": [
    "confusionMatrix = confusion_matrix(test_y, cSuppVectorPredictions)\n",
    "seaborn.heatmap(confusionMatrix, annot = True, fmt = \".0f\")"
   ]
  },
  {
   "cell_type": "markdown",
   "metadata": {},
   "source": [
    "## Random Forest Classifier"
   ]
  },
  {
   "cell_type": "code",
   "execution_count": 17,
   "metadata": {},
   "outputs": [
    {
     "name": "stderr",
     "output_type": "stream",
     "text": [
      "[Parallel(n_jobs=1)]: Using backend SequentialBackend with 1 concurrent workers.\n",
      "[Parallel(n_jobs=1)]: Done 100 out of 100 | elapsed:  2.1min finished\n"
     ]
    },
    {
     "data": {
      "text/plain": [
       "Pipeline(steps=[('tf-idf', TfidfVectorizer()),\n",
       "                ('classr', RandomForestClassifier(verbose=1, warm_start=True))])"
      ]
     },
     "execution_count": 17,
     "metadata": {},
     "output_type": "execute_result"
    }
   ],
   "source": [
    "x_train, x_test, y_train, y_test = train_test_split(\n",
    "    train_x, train_y, test_size = 0.33, random_state = 0, shuffle = True)\n",
    "\n",
    "classifier = Pipeline([(\"tf-idf\", TfidfVectorizer()), (\"classr\", RandomForestClassifier(\n",
    "        n_estimators=100, warm_start=True, verbose=1))])\n",
    "\n",
    "classifier.fit(train_x, train_y)\n"
   ]
  },
  {
   "cell_type": "code",
   "execution_count": 18,
   "metadata": {},
   "outputs": [
    {
     "name": "stderr",
     "output_type": "stream",
     "text": [
      "[Parallel(n_jobs=1)]: Using backend SequentialBackend with 1 concurrent workers.\n",
      "[Parallel(n_jobs=1)]: Done 100 out of 100 | elapsed:    2.8s finished\n"
     ]
    },
    {
     "name": "stdout",
     "output_type": "stream",
     "text": [
      "____FOREST CLASSIFIER RESULTS__ \n",
      "\n",
      "Accuracy:  0.556496255291436\n",
      "F1 Macro:  0.4792524938425098 \n",
      "\n",
      "Clasification Report:  \n",
      "               precision    recall  f1-score   support\n",
      "\n",
      "           0       0.80      0.15      0.25      3972\n",
      "           1       0.55      0.84      0.66      5937\n",
      "           2       0.50      0.53      0.52      2375\n",
      "\n",
      "    accuracy                           0.56     12284\n",
      "   macro avg       0.62      0.51      0.48     12284\n",
      "weighted avg       0.62      0.56      0.50     12284\n",
      "\n"
     ]
    }
   ],
   "source": [
    "forrestPredictions = classifier.predict(test_x)\n",
    "\n",
    "print('____FOREST CLASSIFIER RESULTS__',  \"\\n\" )\n",
    "print('Accuracy: ', metrics.accuracy_score(test_y, forrestPredictions))\n",
    "print('F1 Macro: ', metrics.f1_score(test_y, forrestPredictions, average = 'macro'), \"\\n\")\n",
    "print('Clasification Report: ', \"\\n\" , metrics.classification_report(test_y, forrestPredictions, zero_division = 0))"
   ]
  },
  {
   "cell_type": "code",
   "execution_count": null,
   "metadata": {},
   "outputs": [],
   "source": [
    "confusionMatrix = confusion_matrix(test_y, forrestPredictions)\n",
    "seaborn.heatmap(confusionMatrix, annot = True, fmt = \".0f\")"
   ]
  },
  {
   "cell_type": "code",
   "execution_count": null,
   "metadata": {},
   "outputs": [],
   "source": []
  }
 ],
 "metadata": {
  "kernelspec": {
   "display_name": "Python 3",
   "language": "python",
   "name": "python3"
  },
  "language_info": {
   "codemirror_mode": {
    "name": "ipython",
    "version": 3
   },
   "file_extension": ".py",
   "mimetype": "text/x-python",
   "name": "python",
   "nbconvert_exporter": "python",
   "pygments_lexer": "ipython3",
   "version": "3.8.5"
  }
 },
 "nbformat": 4,
 "nbformat_minor": 4
}
