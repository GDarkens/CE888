{
 "cells": [
  {
   "cell_type": "markdown",
   "metadata": {},
   "source": [
    "# Hate Model"
   ]
  },
  {
   "cell_type": "code",
   "execution_count": 1,
   "metadata": {},
   "outputs": [
    {
     "name": "stdout",
     "output_type": "stream",
     "text": [
      "Requirement already satisfied: keras in c:\\programdata\\anaconda3\\lib\\site-packages (2.4.3)\n",
      "Requirement already satisfied: h5py in c:\\programdata\\anaconda3\\lib\\site-packages (from keras) (2.10.0)\n",
      "Requirement already satisfied: numpy>=1.9.1 in c:\\programdata\\anaconda3\\lib\\site-packages (from keras) (1.19.2)\n",
      "Requirement already satisfied: pyyaml in c:\\programdata\\anaconda3\\lib\\site-packages (from keras) (5.3.1)\n",
      "Requirement already satisfied: scipy>=0.14 in c:\\programdata\\anaconda3\\lib\\site-packages (from keras) (1.5.2)\n",
      "Requirement already satisfied: six in c:\\programdata\\anaconda3\\lib\\site-packages (from h5py->keras) (1.15.0)\n",
      "Requirement already satisfied: sklearn in c:\\programdata\\anaconda3\\lib\\site-packages (0.0)\n",
      "Requirement already satisfied: scikit-learn in c:\\programdata\\anaconda3\\lib\\site-packages (from sklearn) (0.23.2)\n",
      "Requirement already satisfied: scipy>=0.19.1 in c:\\programdata\\anaconda3\\lib\\site-packages (from scikit-learn->sklearn) (1.5.2)\n",
      "Requirement already satisfied: threadpoolctl>=2.0.0 in c:\\programdata\\anaconda3\\lib\\site-packages (from scikit-learn->sklearn) (2.1.0)\n",
      "Requirement already satisfied: joblib>=0.11 in c:\\programdata\\anaconda3\\lib\\site-packages (from scikit-learn->sklearn) (0.17.0)\n",
      "Requirement already satisfied: numpy>=1.13.3 in c:\\programdata\\anaconda3\\lib\\site-packages (from scikit-learn->sklearn) (1.19.2)\n",
      "Requirement already satisfied: nltk in c:\\programdata\\anaconda3\\lib\\site-packages (3.5)\n",
      "Requirement already satisfied: tqdm in c:\\programdata\\anaconda3\\lib\\site-packages (from nltk) (4.50.2)\n",
      "Requirement already satisfied: regex in c:\\programdata\\anaconda3\\lib\\site-packages (from nltk) (2020.10.15)\n",
      "Requirement already satisfied: click in c:\\programdata\\anaconda3\\lib\\site-packages (from nltk) (7.1.2)\n",
      "Requirement already satisfied: joblib in c:\\programdata\\anaconda3\\lib\\site-packages (from nltk) (0.17.0)\n",
      "Requirement already satisfied: transformers in c:\\programdata\\anaconda3\\lib\\site-packages (4.3.2)\n",
      "Requirement already satisfied: filelock in c:\\programdata\\anaconda3\\lib\\site-packages (from transformers) (3.0.12)\n",
      "Requirement already satisfied: tokenizers<0.11,>=0.10.1 in c:\\programdata\\anaconda3\\lib\\site-packages (from transformers) (0.10.1)\n",
      "Requirement already satisfied: requests in c:\\programdata\\anaconda3\\lib\\site-packages (from transformers) (2.24.0)\n",
      "Requirement already satisfied: numpy>=1.17 in c:\\programdata\\anaconda3\\lib\\site-packages (from transformers) (1.19.2)\n",
      "Requirement already satisfied: sacremoses in c:\\programdata\\anaconda3\\lib\\site-packages (from transformers) (0.0.43)\n",
      "Requirement already satisfied: regex!=2019.12.17 in c:\\programdata\\anaconda3\\lib\\site-packages (from transformers) (2020.10.15)\n",
      "Requirement already satisfied: packaging in c:\\programdata\\anaconda3\\lib\\site-packages (from transformers) (20.4)\n",
      "Requirement already satisfied: tqdm>=4.27 in c:\\programdata\\anaconda3\\lib\\site-packages (from transformers) (4.50.2)\n",
      "Requirement already satisfied: idna<3,>=2.5 in c:\\programdata\\anaconda3\\lib\\site-packages (from requests->transformers) (2.10)\n",
      "Requirement already satisfied: chardet<4,>=3.0.2 in c:\\programdata\\anaconda3\\lib\\site-packages (from requests->transformers) (3.0.4)\n",
      "Requirement already satisfied: urllib3!=1.25.0,!=1.25.1,<1.26,>=1.21.1 in c:\\programdata\\anaconda3\\lib\\site-packages (from requests->transformers) (1.25.11)\n",
      "Requirement already satisfied: certifi>=2017.4.17 in c:\\programdata\\anaconda3\\lib\\site-packages (from requests->transformers) (2020.6.20)\n",
      "Requirement already satisfied: click in c:\\programdata\\anaconda3\\lib\\site-packages (from sacremoses->transformers) (7.1.2)\n",
      "Requirement already satisfied: joblib in c:\\programdata\\anaconda3\\lib\\site-packages (from sacremoses->transformers) (0.17.0)\n",
      "Requirement already satisfied: six in c:\\programdata\\anaconda3\\lib\\site-packages (from sacremoses->transformers) (1.15.0)\n",
      "Requirement already satisfied: pyparsing>=2.0.2 in c:\\programdata\\anaconda3\\lib\\site-packages (from packaging->transformers) (2.4.7)\n",
      "Requirement already satisfied: ktrain in c:\\programdata\\anaconda3\\lib\\site-packages (0.26.2)\n",
      "Requirement already satisfied: ipython in c:\\programdata\\anaconda3\\lib\\site-packages (from ktrain) (7.19.0)\n",
      "Requirement already satisfied: syntok in c:\\programdata\\anaconda3\\lib\\site-packages (from ktrain) (1.3.1)\n",
      "Requirement already satisfied: requests in c:\\programdata\\anaconda3\\lib\\site-packages (from ktrain) (2.24.0)\n",
      "Requirement already satisfied: pandas>=1.0.1 in c:\\programdata\\anaconda3\\lib\\site-packages (from ktrain) (1.1.3)\n",
      "Requirement already satisfied: langdetect in c:\\programdata\\anaconda3\\lib\\site-packages (from ktrain) (1.0.8)\n",
      "Requirement already satisfied: seqeval==0.0.19 in c:\\programdata\\anaconda3\\lib\\site-packages (from ktrain) (0.0.19)\n",
      "Requirement already satisfied: networkx>=2.3 in c:\\programdata\\anaconda3\\lib\\site-packages (from ktrain) (2.5)\n",
      "Requirement already satisfied: whoosh in c:\\programdata\\anaconda3\\lib\\site-packages (from ktrain) (2.7.4)\n",
      "Requirement already satisfied: keras-bert>=0.86.0 in c:\\programdata\\anaconda3\\lib\\site-packages (from ktrain) (0.86.0)\n",
      "Requirement already satisfied: scikit-learn==0.23.2 in c:\\programdata\\anaconda3\\lib\\site-packages (from ktrain) (0.23.2)\n",
      "Requirement already satisfied: transformers<=4.3.3,>=4.0.0 in c:\\programdata\\anaconda3\\lib\\site-packages (from ktrain) (4.3.2)\n",
      "Requirement already satisfied: fastprogress>=0.1.21 in c:\\programdata\\anaconda3\\lib\\site-packages (from ktrain) (1.0.0)\n",
      "Requirement already satisfied: joblib in c:\\programdata\\anaconda3\\lib\\site-packages (from ktrain) (0.17.0)\n",
      "Requirement already satisfied: packaging in c:\\programdata\\anaconda3\\lib\\site-packages (from ktrain) (20.4)\n",
      "Requirement already satisfied: cchardet in c:\\programdata\\anaconda3\\lib\\site-packages (from ktrain) (2.1.7)\n",
      "Requirement already satisfied: sentencepiece in c:\\programdata\\anaconda3\\lib\\site-packages (from ktrain) (0.1.95)\n",
      "Requirement already satisfied: jieba in c:\\programdata\\anaconda3\\lib\\site-packages (from ktrain) (0.42.1)\n",
      "Requirement already satisfied: matplotlib>=3.0.0 in c:\\programdata\\anaconda3\\lib\\site-packages (from ktrain) (3.3.2)\n",
      "Requirement already satisfied: pygments in c:\\programdata\\anaconda3\\lib\\site-packages (from ipython->ktrain) (2.7.2)\n",
      "Requirement already satisfied: traitlets>=4.2 in c:\\programdata\\anaconda3\\lib\\site-packages (from ipython->ktrain) (5.0.5)\n",
      "Requirement already satisfied: setuptools>=18.5 in c:\\programdata\\anaconda3\\lib\\site-packages (from ipython->ktrain) (50.3.1.post20201107)\n",
      "Requirement already satisfied: backcall in c:\\programdata\\anaconda3\\lib\\site-packages (from ipython->ktrain) (0.2.0)\n",
      "Requirement already satisfied: jedi>=0.10 in c:\\programdata\\anaconda3\\lib\\site-packages (from ipython->ktrain) (0.17.1)\n",
      "Requirement already satisfied: colorama; sys_platform == \"win32\" in c:\\programdata\\anaconda3\\lib\\site-packages (from ipython->ktrain) (0.4.4)\n",
      "Requirement already satisfied: pickleshare in c:\\programdata\\anaconda3\\lib\\site-packages (from ipython->ktrain) (0.7.5)\n",
      "Requirement already satisfied: decorator in c:\\programdata\\anaconda3\\lib\\site-packages (from ipython->ktrain) (4.4.2)\n",
      "Requirement already satisfied: prompt-toolkit!=3.0.0,!=3.0.1,<3.1.0,>=2.0.0 in c:\\programdata\\anaconda3\\lib\\site-packages (from ipython->ktrain) (3.0.8)\n",
      "Requirement already satisfied: regex in c:\\programdata\\anaconda3\\lib\\site-packages (from syntok->ktrain) (2020.10.15)\n",
      "Requirement already satisfied: chardet<4,>=3.0.2 in c:\\programdata\\anaconda3\\lib\\site-packages (from requests->ktrain) (3.0.4)\n",
      "Requirement already satisfied: urllib3!=1.25.0,!=1.25.1,<1.26,>=1.21.1 in c:\\programdata\\anaconda3\\lib\\site-packages (from requests->ktrain) (1.25.11)\n",
      "Requirement already satisfied: certifi>=2017.4.17 in c:\\programdata\\anaconda3\\lib\\site-packages (from requests->ktrain) (2020.6.20)\n",
      "Requirement already satisfied: idna<3,>=2.5 in c:\\programdata\\anaconda3\\lib\\site-packages (from requests->ktrain) (2.10)\n",
      "Requirement already satisfied: numpy>=1.15.4 in c:\\programdata\\anaconda3\\lib\\site-packages (from pandas>=1.0.1->ktrain) (1.19.2)\n",
      "Requirement already satisfied: python-dateutil>=2.7.3 in c:\\programdata\\anaconda3\\lib\\site-packages (from pandas>=1.0.1->ktrain) (2.8.1)\n",
      "Requirement already satisfied: pytz>=2017.2 in c:\\programdata\\anaconda3\\lib\\site-packages (from pandas>=1.0.1->ktrain) (2020.1)\n",
      "Requirement already satisfied: six in c:\\programdata\\anaconda3\\lib\\site-packages (from langdetect->ktrain) (1.15.0)\n",
      "Requirement already satisfied: Keras>=2.2.4 in c:\\programdata\\anaconda3\\lib\\site-packages (from seqeval==0.0.19->ktrain) (2.4.3)\n",
      "Requirement already satisfied: keras-transformer>=0.38.0 in c:\\programdata\\anaconda3\\lib\\site-packages (from keras-bert>=0.86.0->ktrain) (0.38.0)\n",
      "Requirement already satisfied: threadpoolctl>=2.0.0 in c:\\programdata\\anaconda3\\lib\\site-packages (from scikit-learn==0.23.2->ktrain) (2.1.0)\n",
      "Requirement already satisfied: scipy>=0.19.1 in c:\\programdata\\anaconda3\\lib\\site-packages (from scikit-learn==0.23.2->ktrain) (1.5.2)\n",
      "Requirement already satisfied: tokenizers<0.11,>=0.10.1 in c:\\programdata\\anaconda3\\lib\\site-packages (from transformers<=4.3.3,>=4.0.0->ktrain) (0.10.1)\n",
      "Requirement already satisfied: sacremoses in c:\\programdata\\anaconda3\\lib\\site-packages (from transformers<=4.3.3,>=4.0.0->ktrain) (0.0.43)\n",
      "Requirement already satisfied: tqdm>=4.27 in c:\\programdata\\anaconda3\\lib\\site-packages (from transformers<=4.3.3,>=4.0.0->ktrain) (4.50.2)\n",
      "Requirement already satisfied: filelock in c:\\programdata\\anaconda3\\lib\\site-packages (from transformers<=4.3.3,>=4.0.0->ktrain) (3.0.12)\n",
      "Requirement already satisfied: pyparsing>=2.0.2 in c:\\programdata\\anaconda3\\lib\\site-packages (from packaging->ktrain) (2.4.7)\n",
      "Requirement already satisfied: cycler>=0.10 in c:\\programdata\\anaconda3\\lib\\site-packages (from matplotlib>=3.0.0->ktrain) (0.10.0)\n",
      "Requirement already satisfied: pillow>=6.2.0 in c:\\programdata\\anaconda3\\lib\\site-packages (from matplotlib>=3.0.0->ktrain) (8.0.1)\n",
      "Requirement already satisfied: kiwisolver>=1.0.1 in c:\\programdata\\anaconda3\\lib\\site-packages (from matplotlib>=3.0.0->ktrain) (1.3.0)\n",
      "Requirement already satisfied: ipython-genutils in c:\\programdata\\anaconda3\\lib\\site-packages (from traitlets>=4.2->ipython->ktrain) (0.2.0)\n",
      "Requirement already satisfied: parso<0.8.0,>=0.7.0 in c:\\programdata\\anaconda3\\lib\\site-packages (from jedi>=0.10->ipython->ktrain) (0.7.0)\n",
      "Requirement already satisfied: wcwidth in c:\\programdata\\anaconda3\\lib\\site-packages (from prompt-toolkit!=3.0.0,!=3.0.1,<3.1.0,>=2.0.0->ipython->ktrain) (0.2.5)\n",
      "Requirement already satisfied: h5py in c:\\programdata\\anaconda3\\lib\\site-packages (from Keras>=2.2.4->seqeval==0.0.19->ktrain) (2.10.0)\n",
      "Requirement already satisfied: pyyaml in c:\\programdata\\anaconda3\\lib\\site-packages (from Keras>=2.2.4->seqeval==0.0.19->ktrain) (5.3.1)\n",
      "Requirement already satisfied: keras-pos-embd>=0.11.0 in c:\\programdata\\anaconda3\\lib\\site-packages (from keras-transformer>=0.38.0->keras-bert>=0.86.0->ktrain) (0.11.0)\n",
      "Requirement already satisfied: keras-position-wise-feed-forward>=0.6.0 in c:\\programdata\\anaconda3\\lib\\site-packages (from keras-transformer>=0.38.0->keras-bert>=0.86.0->ktrain) (0.6.0)\n",
      "Requirement already satisfied: keras-multi-head>=0.27.0 in c:\\programdata\\anaconda3\\lib\\site-packages (from keras-transformer>=0.38.0->keras-bert>=0.86.0->ktrain) (0.27.0)\n",
      "Requirement already satisfied: keras-layer-normalization>=0.14.0 in c:\\programdata\\anaconda3\\lib\\site-packages (from keras-transformer>=0.38.0->keras-bert>=0.86.0->ktrain) (0.14.0)\n",
      "Requirement already satisfied: keras-embed-sim>=0.8.0 in c:\\programdata\\anaconda3\\lib\\site-packages (from keras-transformer>=0.38.0->keras-bert>=0.86.0->ktrain) (0.8.0)\n",
      "Requirement already satisfied: click in c:\\programdata\\anaconda3\\lib\\site-packages (from sacremoses->transformers<=4.3.3,>=4.0.0->ktrain) (7.1.2)\n",
      "Requirement already satisfied: keras-self-attention==0.46.0 in c:\\programdata\\anaconda3\\lib\\site-packages (from keras-multi-head>=0.27.0->keras-transformer>=0.38.0->keras-bert>=0.86.0->ktrain) (0.46.0)\n"
     ]
    }
   ],
   "source": [
    "!pip install keras\n",
    "!pip install sklearn\n",
    "!pip install nltk\n",
    "!pip install transformers\n",
    "!pip install ktrain\n",
    "\n",
    "import matplotlib.pyplot as mpl\n",
    "import pandas as pd\n",
    "import numpy as np\n",
    "import seaborn\n",
    "from pathlib import Path\n",
    "from urllib.request import urlopen\n",
    "import numpy as np\n",
    "import tensorflow as tf\n",
    "from urllib.request import urlopen\n",
    "import nltk\n",
    "import ktrain\n",
    "from ktrain import text\n",
    "from sklearn.svm import SVC\n",
    "from sklearn.feature_extraction.text import CountVectorizer, TfidfTransformer\n",
    "from sklearn import metrics\n",
    "from sklearn.pipeline import FeatureUnion, Pipeline \n",
    "from sklearn.svm import LinearSVC\n",
    "from sklearn.model_selection import GridSearchCV\n",
    "from sklearn.dummy import DummyClassifier\n",
    "from sklearn.tree import DecisionTreeClassifier\n",
    "from nltk.stem.snowball import SnowballStemmer\n",
    "from nltk import word_tokenize, pos_tag_sents\n",
    "from nltk.corpus import stopwords\n",
    "from nltk.tokenize import RegexpTokenizer, word_tokenize\n",
    "from keras.preprocessing.sequence import pad_sequences\n",
    "from nltk.util import pad_sequence\n",
    "from nltk.tokenize.treebank import TreebankWordDetokenizer\n",
    "from sklearn.model_selection import train_test_split\n",
    "from sklearn.feature_extraction.text import CountVectorizer, TfidfVectorizer\n",
    "from sklearn.ensemble import RandomForestClassifier\n",
    "from sklearn.metrics import classification_report, f1_score, confusion_matrix\n",
    "from sklearn.metrics import precision_recall_fscore_support as score\n",
    "from sklearn.pipeline import Pipeline\n",
    "from keras.preprocessing.text import Tokenizer"
   ]
  },
  {
   "cell_type": "code",
   "execution_count": 2,
   "metadata": {},
   "outputs": [],
   "source": [
    "def importHateDatasets(dataset_name):\n",
    "    # Download a given dataset from GitHub CDN\n",
    "    # Data cast to global values\n",
    "\n",
    "    baseUrl = \"https://raw.githubusercontent.com/GDarkens/CE888/main/Assignments/Assignment1/tweeteval/datasets/\"\n",
    "\n",
    "    MAPPING_URL = baseUrl + dataset_name + \"/\" + \"mapping.txt\"\n",
    "    global mapping\n",
    "    mapping = urlopen(MAPPING_URL).read().decode('utf-8').split(\"\\n\")\n",
    "\n",
    "    TEST_LABELS_URL = baseUrl + dataset_name + \"/\" + \"test_labels.txt\"\n",
    "    global test_labels\n",
    "    test_labels = urlopen(\n",
    "        TEST_LABELS_URL).read().decode('utf-8').split(\"\\n\")\n",
    "\n",
    "    TEST_TEXT_URL = baseUrl + dataset_name + \"/\" + \"test_text.txt\"\n",
    "    global test_text\n",
    "    test_text = urlopen(\n",
    "        TEST_TEXT_URL).read().decode('utf-8').split(\"\\n\")\n",
    "\n",
    "    TRAIN_LABELS_URL = baseUrl + dataset_name + \"/\" + \"train_labels.txt\"\n",
    "    global train_labels\n",
    "    train_labels = urlopen(\n",
    "        TRAIN_LABELS_URL).read().decode('utf-8').split(\"\\n\")\n",
    "\n",
    "    TRAIN_TEXT_URL = baseUrl + dataset_name + \"/\" + \"train_text.txt\"\n",
    "    global train_text\n",
    "    train_text = urlopen(\n",
    "        TRAIN_TEXT_URL).read().decode('utf-8').split(\"\\n\")\n",
    "\n",
    "    VAL_LABELS_URL = baseUrl + dataset_name + \"/\" + \"val_labels.txt\"\n",
    "    global val_labels\n",
    "    val_labels = urlopen(\n",
    "        VAL_LABELS_URL).read().decode('utf-8').split(\"\\n\")\n",
    "\n",
    "    VAL_TEXT_URL = baseUrl + dataset_name + \"/\" + \"val_text.txt\"\n",
    "    global val_text\n",
    "    val_text = urlopen(\n",
    "        VAL_TEXT_URL).read().decode('utf-8').split(\"\\n\")"
   ]
  },
  {
   "cell_type": "code",
   "execution_count": 3,
   "metadata": {},
   "outputs": [],
   "source": [
    "def dataFramer(tweetVar, labelVar):\n",
    "    #Suitably frames tweets, pairing them with their given label\n",
    "    tweet_array = []\n",
    "    label_array = []\n",
    "    for i in range(len(tweetVar)):\n",
    "        tweet_array.append({\"tweet\": tweetVar[i], \"label\": labelVar[i]})\n",
    "        label_array.append(i)\n",
    "    dataframe = pd.DataFrame(tweet_array, index=label_array)\n",
    "    dataframe = dataframe[:-1]  # Drop last row, as is a blank\n",
    "    return dataframe"
   ]
  },
  {
   "cell_type": "code",
   "execution_count": 4,
   "metadata": {},
   "outputs": [],
   "source": [
    "importHateDatasets(\"hate\")  # emoji  / hate /  sentiment\n",
    "\n",
    "trainingTweets = dataFramer(train_text, train_labels)\n",
    "testingTweets = dataFramer(test_text, test_labels)\n",
    "valTweets = dataFramer(val_text, val_labels)"
   ]
  },
  {
   "cell_type": "code",
   "execution_count": null,
   "metadata": {},
   "outputs": [],
   "source": []
  },
  {
   "cell_type": "markdown",
   "metadata": {},
   "source": [
    "## Text Pre-processing"
   ]
  },
  {
   "cell_type": "code",
   "execution_count": 5,
   "metadata": {},
   "outputs": [],
   "source": [
    "def fullyProcess(tweetFrame):\n",
    "    # conda activate myenv\n",
    "    tweetFrame['processed_tweet'] = tweetFrame['tweet'].str.lower()\n",
    "    tweetFrame['processed_tweet'] = handleRemover(tweetFrame)\n",
    "    tweetFrame['processed_tweet'] = punctuationRemover(tweetFrame)\n",
    "    tweetFrame['processed_tweet'] = stopwordRemoval(tweetFrame)\n",
    "    tweetFrame['processed_tweet'] = stemmer(tweetFrame)\n",
    "    tweetFrame['processed_tweet'] = tweetFrame['processed_tweet'].str.strip()\n",
    "    #tweetFrame['processed_tweet'] = tokenizeSequencePadder((tweetFrame))\n",
    "    \n",
    "    #tweetFrame['length'] = tweetFrame['processed_tweet'].apply(lambda x: len(x))\n",
    "    #tweetFrame['words'] = tweetFrame['processed_tweet'].apply(lambda x: len(x.split()))\n",
    "    return tweetFrame\n",
    "\n",
    "\n",
    "def stopwordRemoval(tweetFrame):\n",
    "    en_Stopwords = stopwords.words(\"english\")\n",
    "    result = tweetFrame['processed_tweet'].apply(lambda x: ' '.join(\n",
    "        [item for item in x.split() if item not in en_Stopwords]))\n",
    "    return result\n",
    "\n",
    "\n",
    "puncTokenizer = RegexpTokenizer(r'\\w+')\n",
    "def punctuationRemover(tweetFrame):\n",
    "    result = tweetFrame['processed_tweet'].str.replace(r'[^\\w\\s]+', '')\n",
    "    return result\n",
    "\n",
    "\n",
    "def tokenizeSequencePadder(tweetFrame):\n",
    "    nltkTokenizer = Tokenizer(num_words = 15000)\n",
    "    nltkTokenizer.fit_on_texts(tweetFrame['processed_tweet'])\n",
    "    \n",
    "    tokenizedFrame = nltkTokenizer.texts_to_sequences(tweetFrame['processed_tweet'])\n",
    "    paddedFrame = pad_sequences(tokenizedFrame, padding = 'post', maxlen = 40)\n",
    "    return paddedFrame\n",
    "\n",
    "\n",
    "def tokenizer(tweetFrame):\n",
    "    result = tweetFrame['tweet'].apply(nltk.word_tokenize)\n",
    "    return result\n",
    "\n",
    "\n",
    "def stemmer(tweetFrame):\n",
    "    result = tweetFrame['processed_tweet'].apply(stem_sentences)\n",
    "    return result\n",
    "\n",
    "\n",
    "def stem_sentences(tweet):\n",
    "    stemmer = SnowballStemmer('english')\n",
    "    tokenized = tweet.split()\n",
    "    stemmed = [stemmer.stem(token) for token in tokenized]\n",
    "    return ' '.join(stemmed)\n",
    "\n",
    "\n",
    "def handleRemover(tweetFrame):\n",
    "    result = tweetFrame['processed_tweet'].str.replace('@user', '')\n",
    "    return result"
   ]
  },
  {
   "cell_type": "code",
   "execution_count": 6,
   "metadata": {},
   "outputs": [
    {
     "name": "stdout",
     "output_type": "stream",
     "text": [
      "Wall time: 2.22 s\n"
     ]
    }
   ],
   "source": [
    "%%time\n",
    "\n",
    "train_processedTweets = fullyProcess(trainingTweets)\n",
    "test_processedTweets = fullyProcess(testingTweets)\n",
    "val_processedTweets = fullyProcess(valTweets)"
   ]
  },
  {
   "cell_type": "code",
   "execution_count": 7,
   "metadata": {},
   "outputs": [],
   "source": [
    "# Vectorization of sets\n",
    "vectorizer = CountVectorizer(input = 'content', analyzer = 'word', max_features = 5000)\n",
    "\n",
    "train_x = train_processedTweets['processed_tweet']\n",
    "test_x = test_processedTweets['processed_tweet']\n",
    "val_x = val_processedTweets['processed_tweet']\n",
    "\n",
    "train_y = train_processedTweets['label']\n",
    "test_y = test_processedTweets['label']\n",
    "val_y = val_processedTweets['label']\n",
    "\n",
    "\n",
    "# ! N.B. Only training set fitted to model !\n",
    "vectorTrainProc = vectorizer.fit_transform(train_x)\n",
    "\n",
    "vectorTestProc = vectorizer.transform(test_x)\n",
    "vectorTalProc = vectorizer.transform(val_x)\n",
    "\n"
   ]
  },
  {
   "cell_type": "markdown",
   "metadata": {},
   "source": [
    "## Dummy Classification"
   ]
  },
  {
   "cell_type": "markdown",
   "metadata": {},
   "source": [
    "#### 'stratified' Dummy Classification"
   ]
  },
  {
   "cell_type": "code",
   "execution_count": 8,
   "metadata": {},
   "outputs": [],
   "source": [
    "train_y = trainingTweets['label']\n",
    "\n",
    "dummyClassifier = DummyClassifier(strategy = 'stratified')\n",
    "dummyClassifier = dummyClassifier.fit(vectorTrainProc, train_y)"
   ]
  },
  {
   "cell_type": "code",
   "execution_count": 9,
   "metadata": {},
   "outputs": [
    {
     "name": "stdout",
     "output_type": "stream",
     "text": [
      "__STRATIFIED DUMMY CLASSIFIER RESULTS__ \n",
      "\n",
      "Accuracy:  0.5215488215488215\n",
      "F1 Macro:  0.5109613275007645 \n",
      "\n",
      "Clasification Report:  \n",
      "               precision    recall  f1-score   support\n",
      "\n",
      "           0       0.59      0.58      0.58      1718\n",
      "           1       0.43      0.44      0.44      1252\n",
      "\n",
      "    accuracy                           0.52      2970\n",
      "   macro avg       0.51      0.51      0.51      2970\n",
      "weighted avg       0.52      0.52      0.52      2970\n",
      "\n"
     ]
    }
   ],
   "source": [
    "dummyPredictions = dummyClassifier.predict(vectorTestProc)\n",
    "\n",
    "print('__STRATIFIED DUMMY CLASSIFIER RESULTS__', \"\\n\")\n",
    "print('Accuracy: ', metrics.accuracy_score(test_y, dummyPredictions))\n",
    "print('F1 Macro: ', metrics.f1_score(test_y, dummyPredictions, average = 'macro'), \"\\n\")\n",
    "print('Clasification Report: ', \"\\n\" , metrics.classification_report(test_y, dummyPredictions, zero_division = 0))"
   ]
  },
  {
   "cell_type": "code",
   "execution_count": 10,
   "metadata": {},
   "outputs": [
    {
     "data": {
      "text/plain": [
       "<AxesSubplot:>"
      ]
     },
     "execution_count": 10,
     "metadata": {},
     "output_type": "execute_result"
    },
    {
     "data": {
      "image/png": "[encoded data removed]",
      "text/plain": [
       "<Figure size 432x288 with 2 Axes>"
      ]
     },
     "metadata": {
      "needs_background": "light"
     },
     "output_type": "display_data"
    }
   ],
   "source": [
    "confusionMatrix = confusion_matrix(test_y, dummyPredictions)\n",
    "seaborn.heatmap(confusionMatrix, annot = True, fmt = \".0f\")"
   ]
  },
  {
   "cell_type": "markdown",
   "metadata": {},
   "source": [
    "#### 'most_frequent' Dummy Classification"
   ]
  },
  {
   "cell_type": "code",
   "execution_count": 11,
   "metadata": {},
   "outputs": [],
   "source": [
    "dummyClassifier = DummyClassifier(strategy = 'most_frequent')\n",
    "dummyClassifier = dummyClassifier.fit(vectorTrainProc, train_y)"
   ]
  },
  {
   "cell_type": "code",
   "execution_count": 12,
   "metadata": {},
   "outputs": [
    {
     "name": "stdout",
     "output_type": "stream",
     "text": [
      "__MOST_FREQ. DUMMY CLASSIFIER RESULTS__ \n",
      "\n",
      "Accuracy:  0.5784511784511784\n",
      "F1 Macro:  0.36646757679180886 \n",
      "\n",
      "Clasification Report:  \n",
      "               precision    recall  f1-score   support\n",
      "\n",
      "           0       0.58      1.00      0.73      1718\n",
      "           1       0.00      0.00      0.00      1252\n",
      "\n",
      "    accuracy                           0.58      2970\n",
      "   macro avg       0.29      0.50      0.37      2970\n",
      "weighted avg       0.33      0.58      0.42      2970\n",
      "\n"
     ]
    }
   ],
   "source": [
    "dummyPredictions = dummyClassifier.predict(vectorTestProc)\n",
    "\n",
    "print('__MOST_FREQ. DUMMY CLASSIFIER RESULTS__',  \"\\n\" )\n",
    "print('Accuracy: ', metrics.accuracy_score(test_y, dummyPredictions))\n",
    "print('F1 Macro: ', metrics.f1_score(test_y, dummyPredictions, average = 'macro'), \"\\n\")\n",
    "print('Clasification Report: ', \"\\n\" , metrics.classification_report(test_y, dummyPredictions, zero_division = 0))"
   ]
  },
  {
   "cell_type": "code",
   "execution_count": 53,
   "metadata": {},
   "outputs": [
    {
     "data": {
      "text/plain": [
       "<AxesSubplot:>"
      ]
     },
     "execution_count": 53,
     "metadata": {},
     "output_type": "execute_result"
    },
    {
     "data": {
      "image/png": "[encoded data removed]",
      "text/plain": [
       "<Figure size 432x288 with 2 Axes>"
      ]
     },
     "metadata": {
      "needs_background": "light"
     },
     "output_type": "display_data"
    }
   ],
   "source": [
    "confusionMatrix = confusion_matrix(test_y, dummyPredictions)\n",
    "seaborn.heatmap(confusionMatrix, annot = True, fmt = \".0f\")"
   ]
  },
  {
   "cell_type": "markdown",
   "metadata": {},
   "source": [
    "## Decision Tree Classification"
   ]
  },
  {
   "cell_type": "code",
   "execution_count": 54,
   "metadata": {},
   "outputs": [
    {
     "name": "stdout",
     "output_type": "stream",
     "text": [
      "Fitting 5 folds for each of 36 candidates, totalling 180 fits\n"
     ]
    },
    {
     "name": "stderr",
     "output_type": "stream",
     "text": [
      "[Parallel(n_jobs=6)]: Using backend LokyBackend with 6 concurrent workers.\n",
      "[Parallel(n_jobs=6)]: Done  38 tasks      | elapsed:    7.5s\n",
      "[Parallel(n_jobs=6)]: Done 180 out of 180 | elapsed:    8.3s finished\n"
     ]
    }
   ],
   "source": [
    "from sklearn.tree import DecisionTreeClassifier\n",
    "from sklearn.model_selection import GridSearchCV\n",
    "decisionTreeClassif = DecisionTreeClassifier(criterion = \"entropy\", min_samples_split = 10)\n",
    "params = {\n",
    "    'criterion' : [\"entropy\", \"gini\"],\n",
    "    'max_depth':[2,4,6,8,10,12],\n",
    "    \"max_features\": ['auto', 'log2', 'sqrt']\n",
    "}\n",
    "\n",
    "gridSCV = GridSearchCV(estimator = decisionTreeClassif, param_grid = params, scoring = 'f1_macro',  cv = 5, n_jobs = 6, verbose = 1)\n",
    "gridSCV.fit(vectorTrainProc, train_y)\n",
    "decisionTreeClassif = decisionTreeClassif.fit(vectorTrainProc, train_y)"
   ]
  },
  {
   "cell_type": "code",
   "execution_count": 55,
   "metadata": {},
   "outputs": [
    {
     "name": "stdout",
     "output_type": "stream",
     "text": [
      "__DECISION TREE CLASSIFIER RESULTS__ \n",
      "\n",
      "Accuracy:  0.48148148148148145\n",
      "F1 Macro:  0.44852941176470584 \n",
      "\n",
      "Clasification Report:  \n",
      "               precision    recall  f1-score   support\n",
      "\n",
      "           0       0.67      0.20      0.31      1718\n",
      "           1       0.44      0.86      0.58      1252\n",
      "\n",
      "    accuracy                           0.48      2970\n",
      "   macro avg       0.56      0.53      0.45      2970\n",
      "weighted avg       0.57      0.48      0.43      2970\n",
      "\n"
     ]
    }
   ],
   "source": [
    "treePredictions = decisionTreeClassif.predict(vectorTestProc)\n",
    "\n",
    "\n",
    "print('__DECISION TREE CLASSIFIER RESULTS__',  \"\\n\" )\n",
    "print('Accuracy: ', metrics.accuracy_score(test_y, treePredictions))\n",
    "print('F1 Macro: ', metrics.f1_score(test_y, treePredictions, average = 'macro'), \"\\n\")\n",
    "print('Clasification Report: ', \"\\n\" , metrics.classification_report(test_y, treePredictions, zero_division = 0))"
   ]
  },
  {
   "cell_type": "code",
   "execution_count": 56,
   "metadata": {},
   "outputs": [
    {
     "data": {
      "text/plain": [
       "<AxesSubplot:>"
      ]
     },
     "execution_count": 56,
     "metadata": {},
     "output_type": "execute_result"
    },
    {
     "data": {
      "image/png": "[encoded data removed]",
      "text/plain": [
       "<Figure size 432x288 with 2 Axes>"
      ]
     },
     "metadata": {
      "needs_background": "light"
     },
     "output_type": "display_data"
    }
   ],
   "source": [
    "confusionMatrix = confusion_matrix(test_y, treePredictions)\n",
    "seaborn.heatmap(confusionMatrix, annot = True, fmt = \".0f\")"
   ]
  },
  {
   "cell_type": "markdown",
   "metadata": {},
   "source": [
    "## C-Support Vector Classification"
   ]
  },
  {
   "cell_type": "code",
   "execution_count": 58,
   "metadata": {},
   "outputs": [
    {
     "name": "stdout",
     "output_type": "stream",
     "text": [
      "Fitting 3 folds for each of 16 candidates, totalling 48 fits\n"
     ]
    },
    {
     "name": "stderr",
     "output_type": "stream",
     "text": [
      "[Parallel(n_jobs=6)]: Using backend LokyBackend with 6 concurrent workers.\n",
      "[Parallel(n_jobs=6)]: Done  48 out of  48 | elapsed:  1.2min finished\n"
     ]
    },
    {
     "name": "stdout",
     "output_type": "stream",
     "text": [
      "[LibSVM]Wall time: 1min 21s\n"
     ]
    }
   ],
   "source": [
    "%%time\n",
    "cSuppVector = SVC(C = 1, verbose = 1)\n",
    "params = {\n",
    "    'gamma' : ['scale', 'auto'],\n",
    "    'kernel':['linear', 'poly', 'rbf', 'sigmoid'],\n",
    "    'decision_function_shape': ['ovo', 'ovr']\n",
    "}\n",
    "              \n",
    "cSuppVector = GridSearchCV(estimator = cSuppVector, param_grid = params, cv = 3, scoring = 'f1_macro', n_jobs = 6, verbose = 1)\n",
    "cSuppVector = cSuppVector.fit(vectorTrainProc, train_y)"
   ]
  },
  {
   "cell_type": "code",
   "execution_count": 59,
   "metadata": {},
   "outputs": [
    {
     "name": "stdout",
     "output_type": "stream",
     "text": [
      "__C-SUPPORT VECTOR CLASSIFIER RESULTS__ \n",
      "\n",
      "Accuracy:  0.49057239057239055\n",
      "F1 Macro:  0.4529367271406256 \n",
      "\n",
      "Clasification Report:  \n",
      "               precision    recall  f1-score   support\n",
      "\n",
      "           0       0.72      0.20      0.31      1718\n",
      "           1       0.45      0.89      0.60      1252\n",
      "\n",
      "    accuracy                           0.49      2970\n",
      "   macro avg       0.58      0.55      0.45      2970\n",
      "weighted avg       0.60      0.49      0.43      2970\n",
      "\n"
     ]
    }
   ],
   "source": [
    "cSuppVectorPredictions = cSuppVector.predict(vectorTestProc)\n",
    "\n",
    "\n",
    "print('__C-SUPPORT VECTOR CLASSIFIER RESULTS__',  \"\\n\" )\n",
    "print('Accuracy: ', metrics.accuracy_score(test_y, cSuppVectorPredictions))\n",
    "print('F1 Macro: ', metrics.f1_score(test_y, cSuppVectorPredictions, average = 'macro'), \"\\n\")\n",
    "print('Clasification Report: ', \"\\n\" , metrics.classification_report(test_y, cSuppVectorPredictions, zero_division = 0))"
   ]
  },
  {
   "cell_type": "code",
   "execution_count": 60,
   "metadata": {},
   "outputs": [
    {
     "data": {
      "text/plain": [
       "<AxesSubplot:>"
      ]
     },
     "execution_count": 60,
     "metadata": {},
     "output_type": "execute_result"
    },
    {
     "data": {
      "image/png": "[encoded data removed]",
      "text/plain": [
       "<Figure size 432x288 with 2 Axes>"
      ]
     },
     "metadata": {
      "needs_background": "light"
     },
     "output_type": "display_data"
    }
   ],
   "source": [
    "confusionMatrix = confusion_matrix(test_y, cSuppVectorPredictions)\n",
    "seaborn.heatmap(confusionMatrix, annot = True, fmt = \".0f\")"
   ]
  },
  {
   "cell_type": "markdown",
   "metadata": {},
   "source": [
    "## Linear SVC "
   ]
  },
  {
   "cell_type": "code",
   "execution_count": 66,
   "metadata": {},
   "outputs": [
    {
     "name": "stdout",
     "output_type": "stream",
     "text": [
      "Fitting 3 folds for each of 8 candidates, totalling 24 fits\n"
     ]
    },
    {
     "name": "stderr",
     "output_type": "stream",
     "text": [
      "[Parallel(n_jobs=6)]: Using backend LokyBackend with 6 concurrent workers.\n",
      "[Parallel(n_jobs=6)]: Done  24 out of  24 | elapsed:    2.4s finished\n"
     ]
    },
    {
     "data": {
      "text/plain": [
       "GridSearchCV(cv=3,\n",
       "             estimator=Pipeline(steps=[('union',\n",
       "                                        FeatureUnion(transformer_list=[('word_vec',\n",
       "                                                                        CountVectorizer()),\n",
       "                                                                       ('char_vec',\n",
       "                                                                        CountVectorizer(analyzer='char'))])),\n",
       "                                       ('transform', TfidfTransformer()),\n",
       "                                       ('clf',\n",
       "                                        LinearSVC(C=0.35,\n",
       "                                                  class_weight='balanced'))]),\n",
       "             n_jobs=6,\n",
       "             param_grid={'clf__loss': ['hinge', 'squared_hinge'],\n",
       "                         'union__char_vec__binary': [True, False],\n",
       "                         'union__word_vec__binary': [True, False]},\n",
       "             scoring='f1_macro', verbose=1)"
      ]
     },
     "execution_count": 66,
     "metadata": {},
     "output_type": "execute_result"
    }
   ],
   "source": [
    "from sklearn.feature_extraction.text import CountVectorizer, TfidfTransformer\n",
    "from sklearn.pipeline import FeatureUnion, Pipeline \n",
    "from sklearn.svm import LinearSVC\n",
    "estPipe = Pipeline([('union', FeatureUnion([\n",
    "                                             ('word_vec', CountVectorizer(analyzer = 'word')),\n",
    "                                             ('char_vec', CountVectorizer(analyzer = 'char'))\n",
    "                                             ])),\n",
    "                     ('transform', TfidfTransformer()),\n",
    "                     ('clf', LinearSVC(C = 0.35, class_weight = 'balanced'\n",
    "                                ))])\n",
    "\n",
    "params = {\n",
    "    'union__char_vec__binary': [True, False],\n",
    "    'union__word_vec__binary': [True, False],\n",
    "    'clf__loss': ['hinge', 'squared_hinge'],\n",
    "}\n",
    "\n",
    "grid_search = GridSearchCV(estimator = estPipe, param_grid = params, cv = 3, scoring = 'f1_macro', n_jobs = 6, verbose = 1)\n",
    "grid_search.fit(train_x, train_y)"
   ]
  },
  {
   "cell_type": "code",
   "execution_count": 67,
   "metadata": {},
   "outputs": [
    {
     "name": "stdout",
     "output_type": "stream",
     "text": [
      "__LINEAR SV CLASSIFIER RESULTS__ \n",
      "\n",
      "Accuracy:  0.48922558922558923\n",
      "F1 Macro:  0.4404349055630121 \n",
      "\n",
      "Clasification Report:  \n",
      "               precision    recall  f1-score   support\n",
      "\n",
      "           0       0.77      0.17      0.28      1718\n",
      "           1       0.45      0.93      0.61      1252\n",
      "\n",
      "    accuracy                           0.49      2970\n",
      "   macro avg       0.61      0.55      0.44      2970\n",
      "weighted avg       0.63      0.49      0.41      2970\n",
      "\n"
     ]
    }
   ],
   "source": [
    "linearSVCPred = grid_search.predict(test_x)\n",
    "\n",
    "\n",
    "print('__LINEAR SV CLASSIFIER RESULTS__',  \"\\n\" )\n",
    "print('Accuracy: ', metrics.accuracy_score(test_y, linearSVCPred))\n",
    "print('F1 Macro: ', metrics.f1_score(test_y, linearSVCPred, average = 'macro'), \"\\n\")\n",
    "print('Clasification Report: ', \"\\n\" , metrics.classification_report(test_y, linearSVCPred, zero_division = 0))"
   ]
  },
  {
   "cell_type": "code",
   "execution_count": 63,
   "metadata": {},
   "outputs": [
    {
     "data": {
      "text/plain": [
       "<AxesSubplot:>"
      ]
     },
     "execution_count": 63,
     "metadata": {},
     "output_type": "execute_result"
    },
    {
     "data": {
      "image/png": "[encoded data removed]",
      "text/plain": [
       "<Figure size 432x288 with 2 Axes>"
      ]
     },
     "metadata": {
      "needs_background": "light"
     },
     "output_type": "display_data"
    }
   ],
   "source": [
    "confusionMatrix = confusion_matrix(test_y, linearSVCPred)\n",
    "seaborn.heatmap(confusionMatrix, annot = True, fmt = \".0f\")"
   ]
  },
  {
   "cell_type": "markdown",
   "metadata": {},
   "source": [
    "## Random Forest Classifier"
   ]
  },
  {
   "cell_type": "code",
   "execution_count": 68,
   "metadata": {},
   "outputs": [
    {
     "name": "stderr",
     "output_type": "stream",
     "text": [
      "[Parallel(n_jobs=1)]: Using backend SequentialBackend with 1 concurrent workers.\n",
      "[Parallel(n_jobs=1)]: Done 100 out of 100 | elapsed:    6.5s finished\n"
     ]
    },
    {
     "data": {
      "text/plain": [
       "Pipeline(steps=[('tf-idf', TfidfVectorizer()),\n",
       "                ('classr', RandomForestClassifier(verbose=1, warm_start=True))])"
      ]
     },
     "execution_count": 68,
     "metadata": {},
     "output_type": "execute_result"
    }
   ],
   "source": [
    "x_train, x_test, y_train, y_test = train_test_split(\n",
    "    train_x, train_y, test_size = 0.33, random_state = 0, shuffle = True)\n",
    "\n",
    "classifier = Pipeline([(\"tf-idf\", TfidfVectorizer()), (\"classr\", RandomForestClassifier(\n",
    "        n_estimators=100, warm_start=True, verbose=1))])\n",
    "\n",
    "classifier.fit(train_x, train_y)\n"
   ]
  },
  {
   "cell_type": "code",
   "execution_count": 69,
   "metadata": {},
   "outputs": [
    {
     "name": "stderr",
     "output_type": "stream",
     "text": [
      "[Parallel(n_jobs=1)]: Using backend SequentialBackend with 1 concurrent workers.\n",
      "[Parallel(n_jobs=1)]: Done 100 out of 100 | elapsed:    0.0s finished\n"
     ]
    },
    {
     "name": "stdout",
     "output_type": "stream",
     "text": [
      "__ FOREST CLASSIFIER RESULTS__ \n",
      "\n",
      "Accuracy:  0.47474747474747475\n",
      "F1 Macro:  0.4251980890553409 \n",
      "\n",
      "Clasification Report:  \n",
      "               precision    recall  f1-score   support\n",
      "\n",
      "           0       0.71      0.16      0.26      1718\n",
      "           1       0.44      0.91      0.59      1252\n",
      "\n",
      "    accuracy                           0.47      2970\n",
      "   macro avg       0.57      0.53      0.43      2970\n",
      "weighted avg       0.60      0.47      0.40      2970\n",
      "\n"
     ]
    }
   ],
   "source": [
    "forrestPredictions = classifier.predict(test_x)\n",
    "\n",
    "print('__ FOREST CLASSIFIER RESULTS__',  \"\\n\" )\n",
    "print('Accuracy: ', metrics.accuracy_score(test_y, forrestPredictions))\n",
    "print('F1 Macro: ', metrics.f1_score(test_y, forrestPredictions, average = 'macro'), \"\\n\")\n",
    "print('Clasification Report: ', \"\\n\" , metrics.classification_report(test_y, forrestPredictions, zero_division = 0))"
   ]
  },
  {
   "cell_type": "code",
   "execution_count": 70,
   "metadata": {},
   "outputs": [
    {
     "data": {
      "text/plain": [
       "<AxesSubplot:>"
      ]
     },
     "execution_count": 70,
     "metadata": {},
     "output_type": "execute_result"
    },
    {
     "data": {
      "image/png": "[encoded data removed]",
      "text/plain": [
       "<Figure size 432x288 with 2 Axes>"
      ]
     },
     "metadata": {
      "needs_background": "light"
     },
     "output_type": "display_data"
    }
   ],
   "source": [
    "confusionMatrix = confusion_matrix(test_y, forrestPredictions)\n",
    "seaborn.heatmap(confusionMatrix, annot = True, fmt = \".0f\")"
   ]
  },
  {
   "cell_type": "markdown",
   "metadata": {},
   "source": [
    "## Naive Bayes Classifier "
   ]
  },
  {
   "cell_type": "code",
   "execution_count": 71,
   "metadata": {},
   "outputs": [
    {
     "name": "stdout",
     "output_type": "stream",
     "text": [
      "Fitting 3 folds for each of 2 candidates, totalling 6 fits\n",
      "Wall time: 179 ms\n"
     ]
    },
    {
     "name": "stderr",
     "output_type": "stream",
     "text": [
      "[Parallel(n_jobs=5)]: Using backend LokyBackend with 5 concurrent workers.\n",
      "[Parallel(n_jobs=5)]: Done   4 out of   6 | elapsed:    0.0s remaining:    0.0s\n",
      "[Parallel(n_jobs=5)]: Done   6 out of   6 | elapsed:    0.1s finished\n"
     ]
    }
   ],
   "source": [
    "%%time\n",
    "naiveBayers = MultinomialNB()\n",
    "params = {\n",
    "    'fit_prior': [True, False],\n",
    "}\n",
    "\n",
    "naiveBayers = GridSearchCV(estimator = naiveBayers, param_grid = params, \n",
    "                           n_jobs = 5, cv = 3, scoring = 'f1_macro', verbose = 1)\n",
    "\n",
    "naiveBayers = naiveBayers.fit(vectorTrainProc, train_y)"
   ]
  },
  {
   "cell_type": "code",
   "execution_count": 73,
   "metadata": {},
   "outputs": [
    {
     "name": "stdout",
     "output_type": "stream",
     "text": [
      "__FOREST CLASSIFIER RESULTS__ \n",
      "\n",
      "Accuracy:  0.47575757575757577\n",
      "F1 Macro:  0.41272674926668473 \n",
      "\n",
      "Clasification Report:  \n",
      "               precision    recall  f1-score   support\n",
      "\n",
      "           0       0.79      0.13      0.22      1718\n",
      "           1       0.44      0.95      0.61      1252\n",
      "\n",
      "    accuracy                           0.48      2970\n",
      "   macro avg       0.62      0.54      0.41      2970\n",
      "weighted avg       0.64      0.48      0.38      2970\n",
      "\n"
     ]
    }
   ],
   "source": [
    "bayerPrediction = naiveBayers.predict(vectorTestProc)\n",
    "\n",
    "print('__BAYER CLASSIFIER RESULTS__',  \"\\n\" )\n",
    "print('Accuracy: ', metrics.accuracy_score(test_y, bayerPrediction))\n",
    "print('F1 Macro: ', metrics.f1_score(test_y, bayerPrediction, average = 'macro'), \"\\n\")\n",
    "print('Clasification Report: ', \"\\n\" , metrics.classification_report(test_y, bayerPrediction, zero_division = 0))"
   ]
  },
  {
   "cell_type": "code",
   "execution_count": 74,
   "metadata": {},
   "outputs": [
    {
     "data": {
      "text/plain": [
       "<AxesSubplot:>"
      ]
     },
     "execution_count": 74,
     "metadata": {},
     "output_type": "execute_result"
    },
    {
     "data": {
      "image/png": "[encoded data removed]",
      "text/plain": [
       "<Figure size 432x288 with 2 Axes>"
      ]
     },
     "metadata": {
      "needs_background": "light"
     },
     "output_type": "display_data"
    }
   ],
   "source": [
    "confusionMatrix = confusion_matrix(test_y, bayerPrediction)\n",
    "seaborn.heatmap(confusionMatrix, annot = True, fmt = \".0f\")"
   ]
  },
  {
   "cell_type": "markdown",
   "metadata": {},
   "source": [
    "### BERT Classifier"
   ]
  },
  {
   "cell_type": "code",
   "execution_count": 26,
   "metadata": {},
   "outputs": [
    {
     "ename": "KeyError",
     "evalue": "'processed_tweet'",
     "output_type": "error",
     "traceback": [
      "\u001b[1;31m---------------------------------------------------------------------------\u001b[0m",
      "\u001b[1;31mKeyError\u001b[0m                                  Traceback (most recent call last)",
      "\u001b[1;32mC:\\ProgramData\\Anaconda3\\lib\\site-packages\\pandas\\core\\indexes\\base.py\u001b[0m in \u001b[0;36mget_loc\u001b[1;34m(self, key, method, tolerance)\u001b[0m\n\u001b[0;32m   2894\u001b[0m             \u001b[1;32mtry\u001b[0m\u001b[1;33m:\u001b[0m\u001b[1;33m\u001b[0m\u001b[1;33m\u001b[0m\u001b[0m\n\u001b[1;32m-> 2895\u001b[1;33m                 \u001b[1;32mreturn\u001b[0m \u001b[0mself\u001b[0m\u001b[1;33m.\u001b[0m\u001b[0m_engine\u001b[0m\u001b[1;33m.\u001b[0m\u001b[0mget_loc\u001b[0m\u001b[1;33m(\u001b[0m\u001b[0mcasted_key\u001b[0m\u001b[1;33m)\u001b[0m\u001b[1;33m\u001b[0m\u001b[1;33m\u001b[0m\u001b[0m\n\u001b[0m\u001b[0;32m   2896\u001b[0m             \u001b[1;32mexcept\u001b[0m \u001b[0mKeyError\u001b[0m \u001b[1;32mas\u001b[0m \u001b[0merr\u001b[0m\u001b[1;33m:\u001b[0m\u001b[1;33m\u001b[0m\u001b[1;33m\u001b[0m\u001b[0m\n",
      "\u001b[1;32mpandas\\_libs\\index.pyx\u001b[0m in \u001b[0;36mpandas._libs.index.IndexEngine.get_loc\u001b[1;34m()\u001b[0m\n",
      "\u001b[1;32mpandas\\_libs\\index.pyx\u001b[0m in \u001b[0;36mpandas._libs.index.IndexEngine.get_loc\u001b[1;34m()\u001b[0m\n",
      "\u001b[1;32mpandas\\_libs\\index_class_helper.pxi\u001b[0m in \u001b[0;36mpandas._libs.index.Int64Engine._check_type\u001b[1;34m()\u001b[0m\n",
      "\u001b[1;31mKeyError\u001b[0m: 'processed_tweet'",
      "\nThe above exception was the direct cause of the following exception:\n",
      "\u001b[1;31mKeyError\u001b[0m                                  Traceback (most recent call last)",
      "\u001b[1;32m<ipython-input-26-1b9c4a9c0b43>\u001b[0m in \u001b[0;36m<module>\u001b[1;34m\u001b[0m\n\u001b[1;32m----> 1\u001b[1;33m x_train, x_test, y_train, y_test, preproc = text.texts_from_df(train_df = train_processedTweets, \n\u001b[0m\u001b[0;32m      2\u001b[0m                    \u001b[0mtext_column\u001b[0m \u001b[1;33m=\u001b[0m \u001b[1;34m'processed_tweet'\u001b[0m\u001b[1;33m,\u001b[0m\u001b[1;33m\u001b[0m\u001b[1;33m\u001b[0m\u001b[0m\n\u001b[0;32m      3\u001b[0m                    \u001b[0mlabel_columns\u001b[0m \u001b[1;33m=\u001b[0m \u001b[1;34m'label'\u001b[0m\u001b[1;33m,\u001b[0m\u001b[1;33m\u001b[0m\u001b[1;33m\u001b[0m\u001b[0m\n\u001b[0;32m      4\u001b[0m                    \u001b[0mval_df\u001b[0m \u001b[1;33m=\u001b[0m \u001b[0mval_x\u001b[0m\u001b[1;33m,\u001b[0m\u001b[1;33m\u001b[0m\u001b[1;33m\u001b[0m\u001b[0m\n\u001b[0;32m      5\u001b[0m                    \u001b[0mmaxlen\u001b[0m \u001b[1;33m=\u001b[0m \u001b[1;36m240\u001b[0m\u001b[1;33m,\u001b[0m\u001b[1;33m\u001b[0m\u001b[1;33m\u001b[0m\u001b[0m\n",
      "\u001b[1;32mC:\\ProgramData\\Anaconda3\\lib\\site-packages\\ktrain\\text\\data.py\u001b[0m in \u001b[0;36mtexts_from_df\u001b[1;34m(train_df, text_column, label_columns, val_df, max_features, maxlen, val_pct, ngram_range, preprocess_mode, lang, is_regression, random_state, verbose)\u001b[0m\n\u001b[0;32m    263\u001b[0m     \u001b[1;32mif\u001b[0m \u001b[0mval_df\u001b[0m \u001b[1;32mis\u001b[0m \u001b[1;32mnot\u001b[0m \u001b[1;32mNone\u001b[0m\u001b[1;33m:\u001b[0m\u001b[1;33m\u001b[0m\u001b[1;33m\u001b[0m\u001b[0m\n\u001b[0;32m    264\u001b[0m         \u001b[0mval_df\u001b[0m \u001b[1;33m=\u001b[0m \u001b[0mval_df\u001b[0m\u001b[1;33m.\u001b[0m\u001b[0mcopy\u001b[0m\u001b[1;33m(\u001b[0m\u001b[1;33m)\u001b[0m\u001b[1;33m\u001b[0m\u001b[1;33m\u001b[0m\u001b[0m\n\u001b[1;32m--> 265\u001b[1;33m         \u001b[0mval_df\u001b[0m\u001b[1;33m[\u001b[0m\u001b[0mtext_column\u001b[0m\u001b[1;33m]\u001b[0m\u001b[1;33m.\u001b[0m\u001b[0mfillna\u001b[0m\u001b[1;33m(\u001b[0m\u001b[1;34m'fillna'\u001b[0m\u001b[1;33m,\u001b[0m \u001b[0minplace\u001b[0m\u001b[1;33m=\u001b[0m\u001b[1;32mTrue\u001b[0m\u001b[1;33m)\u001b[0m\u001b[1;33m\u001b[0m\u001b[1;33m\u001b[0m\u001b[0m\n\u001b[0m\u001b[0;32m    266\u001b[0m     \u001b[1;32melse\u001b[0m\u001b[1;33m:\u001b[0m\u001b[1;33m\u001b[0m\u001b[1;33m\u001b[0m\u001b[0m\n\u001b[0;32m    267\u001b[0m         \u001b[0mtrain_df\u001b[0m\u001b[1;33m,\u001b[0m \u001b[0mval_df\u001b[0m \u001b[1;33m=\u001b[0m \u001b[0mtrain_test_split\u001b[0m\u001b[1;33m(\u001b[0m\u001b[0mtrain_df\u001b[0m\u001b[1;33m,\u001b[0m \u001b[0mtest_size\u001b[0m\u001b[1;33m=\u001b[0m\u001b[0mval_pct\u001b[0m\u001b[1;33m,\u001b[0m \u001b[0mrandom_state\u001b[0m\u001b[1;33m=\u001b[0m\u001b[0mrandom_state\u001b[0m\u001b[1;33m)\u001b[0m\u001b[1;33m\u001b[0m\u001b[1;33m\u001b[0m\u001b[0m\n",
      "\u001b[1;32mC:\\ProgramData\\Anaconda3\\lib\\site-packages\\pandas\\core\\series.py\u001b[0m in \u001b[0;36m__getitem__\u001b[1;34m(self, key)\u001b[0m\n\u001b[0;32m    880\u001b[0m \u001b[1;33m\u001b[0m\u001b[0m\n\u001b[0;32m    881\u001b[0m         \u001b[1;32melif\u001b[0m \u001b[0mkey_is_scalar\u001b[0m\u001b[1;33m:\u001b[0m\u001b[1;33m\u001b[0m\u001b[1;33m\u001b[0m\u001b[0m\n\u001b[1;32m--> 882\u001b[1;33m             \u001b[1;32mreturn\u001b[0m \u001b[0mself\u001b[0m\u001b[1;33m.\u001b[0m\u001b[0m_get_value\u001b[0m\u001b[1;33m(\u001b[0m\u001b[0mkey\u001b[0m\u001b[1;33m)\u001b[0m\u001b[1;33m\u001b[0m\u001b[1;33m\u001b[0m\u001b[0m\n\u001b[0m\u001b[0;32m    883\u001b[0m \u001b[1;33m\u001b[0m\u001b[0m\n\u001b[0;32m    884\u001b[0m         \u001b[1;32mif\u001b[0m \u001b[0mis_hashable\u001b[0m\u001b[1;33m(\u001b[0m\u001b[0mkey\u001b[0m\u001b[1;33m)\u001b[0m\u001b[1;33m:\u001b[0m\u001b[1;33m\u001b[0m\u001b[1;33m\u001b[0m\u001b[0m\n",
      "\u001b[1;32mC:\\ProgramData\\Anaconda3\\lib\\site-packages\\pandas\\core\\series.py\u001b[0m in \u001b[0;36m_get_value\u001b[1;34m(self, label, takeable)\u001b[0m\n\u001b[0;32m    987\u001b[0m \u001b[1;33m\u001b[0m\u001b[0m\n\u001b[0;32m    988\u001b[0m         \u001b[1;31m# Similar to Index.get_value, but we do not fall back to positional\u001b[0m\u001b[1;33m\u001b[0m\u001b[1;33m\u001b[0m\u001b[1;33m\u001b[0m\u001b[0m\n\u001b[1;32m--> 989\u001b[1;33m         \u001b[0mloc\u001b[0m \u001b[1;33m=\u001b[0m \u001b[0mself\u001b[0m\u001b[1;33m.\u001b[0m\u001b[0mindex\u001b[0m\u001b[1;33m.\u001b[0m\u001b[0mget_loc\u001b[0m\u001b[1;33m(\u001b[0m\u001b[0mlabel\u001b[0m\u001b[1;33m)\u001b[0m\u001b[1;33m\u001b[0m\u001b[1;33m\u001b[0m\u001b[0m\n\u001b[0m\u001b[0;32m    990\u001b[0m         \u001b[1;32mreturn\u001b[0m \u001b[0mself\u001b[0m\u001b[1;33m.\u001b[0m\u001b[0mindex\u001b[0m\u001b[1;33m.\u001b[0m\u001b[0m_get_values_for_loc\u001b[0m\u001b[1;33m(\u001b[0m\u001b[0mself\u001b[0m\u001b[1;33m,\u001b[0m \u001b[0mloc\u001b[0m\u001b[1;33m,\u001b[0m \u001b[0mlabel\u001b[0m\u001b[1;33m)\u001b[0m\u001b[1;33m\u001b[0m\u001b[1;33m\u001b[0m\u001b[0m\n\u001b[0;32m    991\u001b[0m \u001b[1;33m\u001b[0m\u001b[0m\n",
      "\u001b[1;32mC:\\ProgramData\\Anaconda3\\lib\\site-packages\\pandas\\core\\indexes\\base.py\u001b[0m in \u001b[0;36mget_loc\u001b[1;34m(self, key, method, tolerance)\u001b[0m\n\u001b[0;32m   2895\u001b[0m                 \u001b[1;32mreturn\u001b[0m \u001b[0mself\u001b[0m\u001b[1;33m.\u001b[0m\u001b[0m_engine\u001b[0m\u001b[1;33m.\u001b[0m\u001b[0mget_loc\u001b[0m\u001b[1;33m(\u001b[0m\u001b[0mcasted_key\u001b[0m\u001b[1;33m)\u001b[0m\u001b[1;33m\u001b[0m\u001b[1;33m\u001b[0m\u001b[0m\n\u001b[0;32m   2896\u001b[0m             \u001b[1;32mexcept\u001b[0m \u001b[0mKeyError\u001b[0m \u001b[1;32mas\u001b[0m \u001b[0merr\u001b[0m\u001b[1;33m:\u001b[0m\u001b[1;33m\u001b[0m\u001b[1;33m\u001b[0m\u001b[0m\n\u001b[1;32m-> 2897\u001b[1;33m                 \u001b[1;32mraise\u001b[0m \u001b[0mKeyError\u001b[0m\u001b[1;33m(\u001b[0m\u001b[0mkey\u001b[0m\u001b[1;33m)\u001b[0m \u001b[1;32mfrom\u001b[0m \u001b[0merr\u001b[0m\u001b[1;33m\u001b[0m\u001b[1;33m\u001b[0m\u001b[0m\n\u001b[0m\u001b[0;32m   2898\u001b[0m \u001b[1;33m\u001b[0m\u001b[0m\n\u001b[0;32m   2899\u001b[0m         \u001b[1;32mif\u001b[0m \u001b[0mtolerance\u001b[0m \u001b[1;32mis\u001b[0m \u001b[1;32mnot\u001b[0m \u001b[1;32mNone\u001b[0m\u001b[1;33m:\u001b[0m\u001b[1;33m\u001b[0m\u001b[1;33m\u001b[0m\u001b[0m\n",
      "\u001b[1;31mKeyError\u001b[0m: 'processed_tweet'"
     ]
    }
   ],
   "source": [
    "x_train, x_test, y_train, y_test, preproc = text.texts_from_df(train_df = train_processedTweets, \n",
    "                   text_column = 'processed_tweet',\n",
    "                   label_columns = 'label',\n",
    "                   val_df = val_x,\n",
    "                   maxlen = 240,\n",
    "                   preprocess_mode = 'bert')\n",
    "\n",
    "\n",
    "model = text.text_classifier(name = 'bert',\n",
    "                             train_data = (train_x, train_y),\n",
    "                             preproc = preproc)\n",
    "\n",
    "learner = ktrain.get_learner(model=model,\n",
    "                             train_data=(train_x, train_y),\n",
    "                             val_data=(val_x, val_y),\n",
    "                             batch_size=10\n",
    "                            )\n",
    "\n"
   ]
  },
  {
   "cell_type": "code",
   "execution_count": null,
   "metadata": {},
   "outputs": [],
   "source": [
    "learner.fit_onecycle(lr=2e-5, epochs=2)\n",
    "\n",
    "predictor = ktrain.get_predictor(learner.model, preprocess)"
   ]
  }
 ],
 "metadata": {
  "kernelspec": {
   "display_name": "Python 3",
   "language": "python",
   "name": "python3"
  },
  "language_info": {
   "codemirror_mode": {
    "name": "ipython",
    "version": 3
   },
   "file_extension": ".py",
   "mimetype": "text/x-python",
   "name": "python",
   "nbconvert_exporter": "python",
   "pygments_lexer": "ipython3",
   "version": "3.8.5"
  }
 },
 "nbformat": 4,
 "nbformat_minor": 4
}
