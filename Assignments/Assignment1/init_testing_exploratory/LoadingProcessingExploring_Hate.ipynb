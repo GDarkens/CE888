{
 "cells": [
  {
   "cell_type": "markdown",
   "metadata": {},
   "source": [
    "# Loading, testing, and exploring the 'Hate' dataset"
   ]
  },
  {
   "cell_type": "markdown",
   "metadata": {},
   "source": [
    " #### Installing, importing, and defining required packages"
   ]
  },
  {
   "cell_type": "code",
   "execution_count": 2,
   "metadata": {},
   "outputs": [
    {
     "name": "stdout",
     "output_type": "stream",
     "text": [
      "Requirement already satisfied: transformers in c:\\programdata\\anaconda3\\lib\\site-packages (4.3.2)\n",
      "Requirement already satisfied: requests in c:\\programdata\\anaconda3\\lib\\site-packages (from transformers) (2.24.0)\n",
      "Requirement already satisfied: regex!=2019.12.17 in c:\\programdata\\anaconda3\\lib\\site-packages (from transformers) (2020.10.15)\n",
      "Requirement already satisfied: numpy>=1.17 in c:\\programdata\\anaconda3\\lib\\site-packages (from transformers) (1.19.2)\n",
      "Requirement already satisfied: tqdm>=4.27 in c:\\programdata\\anaconda3\\lib\\site-packages (from transformers) (4.50.2)\n",
      "Requirement already satisfied: filelock in c:\\programdata\\anaconda3\\lib\\site-packages (from transformers) (3.0.12)\n",
      "Requirement already satisfied: packaging in c:\\programdata\\anaconda3\\lib\\site-packages (from transformers) (20.4)\n",
      "Requirement already satisfied: sacremoses in c:\\programdata\\anaconda3\\lib\\site-packages (from transformers) (0.0.43)\n",
      "Requirement already satisfied: tokenizers<0.11,>=0.10.1 in c:\\programdata\\anaconda3\\lib\\site-packages (from transformers) (0.10.1)\n",
      "Requirement already satisfied: certifi>=2017.4.17 in c:\\programdata\\anaconda3\\lib\\site-packages (from requests->transformers) (2020.6.20)\n",
      "Requirement already satisfied: idna<3,>=2.5 in c:\\programdata\\anaconda3\\lib\\site-packages (from requests->transformers) (2.10)\n",
      "Requirement already satisfied: urllib3!=1.25.0,!=1.25.1,<1.26,>=1.21.1 in c:\\programdata\\anaconda3\\lib\\site-packages (from requests->transformers) (1.25.11)\n",
      "Requirement already satisfied: chardet<4,>=3.0.2 in c:\\programdata\\anaconda3\\lib\\site-packages (from requests->transformers) (3.0.4)\n",
      "Requirement already satisfied: six in c:\\programdata\\anaconda3\\lib\\site-packages (from packaging->transformers) (1.15.0)\n",
      "Requirement already satisfied: pyparsing>=2.0.2 in c:\\programdata\\anaconda3\\lib\\site-packages (from packaging->transformers) (2.4.7)\n",
      "Requirement already satisfied: joblib in c:\\programdata\\anaconda3\\lib\\site-packages (from sacremoses->transformers) (0.17.0)\n",
      "Requirement already satisfied: click in c:\\programdata\\anaconda3\\lib\\site-packages (from sacremoses->transformers) (7.1.2)\n",
      "Requirement already satisfied: torch in c:\\programdata\\anaconda3\\lib\\site-packages (1.7.1)\n",
      "Requirement already satisfied: typing_extensions in c:\\programdata\\anaconda3\\lib\\site-packages (from torch) (3.7.4.3)\n",
      "Requirement already satisfied: numpy in c:\\programdata\\anaconda3\\lib\\site-packages (from torch) (1.19.2)\n",
      "Requirement already satisfied: pandas in c:\\programdata\\anaconda3\\lib\\site-packages (1.1.3)\n",
      "Requirement already satisfied: numpy>=1.15.4 in c:\\programdata\\anaconda3\\lib\\site-packages (from pandas) (1.19.2)\n",
      "Requirement already satisfied: python-dateutil>=2.7.3 in c:\\programdata\\anaconda3\\lib\\site-packages (from pandas) (2.8.1)\n",
      "Requirement already satisfied: pytz>=2017.2 in c:\\programdata\\anaconda3\\lib\\site-packages (from pandas) (2020.1)\n",
      "Requirement already satisfied: six>=1.5 in c:\\programdata\\anaconda3\\lib\\site-packages (from python-dateutil>=2.7.3->pandas) (1.15.0)\n",
      "Requirement already satisfied: numpy in c:\\programdata\\anaconda3\\lib\\site-packages (1.19.2)\n",
      "Requirement already satisfied: tabulate in c:\\programdata\\anaconda3\\lib\\site-packages (0.8.9)\n",
      "Requirement already satisfied: emoji in c:\\programdata\\anaconda3\\lib\\site-packages (1.2.0)\n"
     ]
    },
    {
     "name": "stderr",
     "output_type": "stream",
     "text": [
      "[nltk_data] Downloading package punkt to\n",
      "[nltk_data]     C:\\Users\\gdark\\AppData\\Roaming\\nltk_data...\n",
      "[nltk_data]   Package punkt is already up-to-date!\n"
     ]
    },
    {
     "data": {
      "text/plain": [
       "True"
      ]
     },
     "execution_count": 2,
     "metadata": {},
     "output_type": "execute_result"
    }
   ],
   "source": [
    "!pip install transformers\n",
    "!pip install torch\n",
    "!pip install pandas\n",
    "!pip install numpy\n",
    "!pip install tabulate\n",
    "!pip install emoji\n",
    "import csv\n",
    "import matplotlib.pyplot as mpl\n",
    "import requests\n",
    "import urllib\n",
    "import pandas as pd\n",
    "import numpy as np\n",
    "from pathlib import Path\n",
    "from urllib.request import urlopen\n",
    "import nltk\n",
    "nltk.download('punkt')"
   ]
  },
  {
   "cell_type": "markdown",
   "metadata": {},
   "source": [
    "# Import Hate dataset"
   ]
  },
  {
   "cell_type": "code",
   "execution_count": 4,
   "metadata": {},
   "outputs": [],
   "source": [
    "MAPPING_URL = \"https://raw.githubusercontent.com/GDarkens/CE888/main/Assignments/Assignment1/tweeteval/datasets/hate/mapping.txt\"\n",
    "mapping = urlopen(MAPPING_URL).read().decode('utf-8').split(\"\\n\")\n",
    "\n",
    "\n",
    "TEST_LABELS_URL = \"https://raw.githubusercontent.com/GDarkens/CE888/main/Assignments/Assignment1/tweeteval/datasets/hate/test_labels.txt\"\n",
    "test_labels = urlopen(TEST_LABELS_URL).read().decode('utf-8').split(\"\\n\")\n",
    "\n",
    "\n",
    "TEST_TEXT_URL = \"https://raw.githubusercontent.com/GDarkens/CE888/main/Assignments/Assignment1/tweeteval/datasets/hate/test_text.txt\"\n",
    "test_text = urlopen(TEST_TEXT_URL).read().decode('utf-8').split(\"\\n\")\n",
    "\n",
    "\n",
    "TRAIN_LABELS_URL = \"https://raw.githubusercontent.com/GDarkens/CE888/main/Assignments/Assignment1/tweeteval/datasets/hate/train_labels.txt\"\n",
    "train_labels = urlopen(TRAIN_LABELS_URL).read().decode('utf-8').split(\"\\n\")\n",
    "\n",
    "\n",
    "TRAIN_TEXT_URL = \"https://raw.githubusercontent.com/GDarkens/CE888/main/Assignments/Assignment1/tweeteval/datasets/hate/train_text.txt\"\n",
    "train_text = urlopen(TRAIN_TEXT_URL).read().decode('utf-8').split(\"\\n\")\n",
    "\n",
    "\n",
    "VAL_LABELS_URL = \"https://raw.githubusercontent.com/GDarkens/CE888/main/Assignments/Assignment1/tweeteval/datasets/hate/val_labels.txt\"\n",
    "val_labels = urlopen(VAL_LABELS_URL).read().decode('utf-8').split(\"\\n\")\n",
    "\n",
    "\n",
    "VAL_TEXT_URL = \"https://raw.githubusercontent.com/GDarkens/CE888/main/Assignments/Assignment1/tweeteval/datasets/hate/val_text.txt\"\n",
    "val_text = urlopen(VAL_TEXT_URL).read().decode('utf-8').split(\"\\n\")\n",
    "\n",
    "\n"
   ]
  },
  {
   "cell_type": "markdown",
   "metadata": {},
   "source": [
    " #### Basic info about imported data structures (all values should be in thousands, apart from mapping.txt)"
   ]
  },
  {
   "cell_type": "code",
   "execution_count": 5,
   "metadata": {},
   "outputs": [
    {
     "name": "stdout",
     "output_type": "stream",
     "text": [
      "Mapping information:\n",
      "mapping.txt length: 2\n",
      "\n",
      "Test data information:\n",
      "test_labels.txt length: 2971\n",
      "test_text.txt length: 2971\n",
      "\n",
      "Training data information:\n",
      "train_labels.txt length: 9001\n",
      "train_text.txt length: 9001\n",
      "\n",
      "Value data information:\n",
      "val_labels.txt length: 1001\n",
      "val_text.txt length: 1001\n"
     ]
    }
   ],
   "source": [
    "print(\"Mapping information:\")\n",
    "print(\"mapping.txt length: \" + str(len(mapping)) + \"\\n\")\n",
    "\n",
    "print(\"Test data information:\")\n",
    "print(\"test_labels.txt length: \" + str(len(test_labels)))\n",
    "print(\"test_text.txt length: \" + str(len(test_text)) + \"\\n\")\n",
    "\n",
    "print(\"Training data information:\")\n",
    "print(\"train_labels.txt length: \" + str(len(train_labels)))\n",
    "print(\"train_text.txt length: \" + str(len(train_text)) + \"\\n\")\n",
    "      \n",
    "print(\"Value data information:\")\n",
    "print(\"val_labels.txt length: \" + str(len(val_labels)))\n",
    "print(\"val_text.txt length: \" + str(len(val_text)))\n"
   ]
  },
  {
   "cell_type": "code",
   "execution_count": 6,
   "metadata": {},
   "outputs": [
    {
     "name": "stdout",
     "output_type": "stream",
     "text": [
      "\n",
      " test_data and test_label: \n"
     ]
    },
    {
     "data": {
      "text/html": [
       "<div>\n",
       "<style scoped>\n",
       "    .dataframe tbody tr th:only-of-type {\n",
       "        vertical-align: middle;\n",
       "    }\n",
       "\n",
       "    .dataframe tbody tr th {\n",
       "        vertical-align: top;\n",
       "    }\n",
       "\n",
       "    .dataframe thead th {\n",
       "        text-align: right;\n",
       "    }\n",
       "</style>\n",
       "<table border=\"1\" class=\"dataframe\">\n",
       "  <thead>\n",
       "    <tr style=\"text-align: right;\">\n",
       "      <th></th>\n",
       "      <th>Tweet</th>\n",
       "      <th>Label</th>\n",
       "    </tr>\n",
       "  </thead>\n",
       "  <tbody>\n",
       "    <tr>\n",
       "      <th>0</th>\n",
       "      <td>@user , you are correct that Reid certainly is...</td>\n",
       "      <td>0</td>\n",
       "    </tr>\n",
       "    <tr>\n",
       "      <th>1</th>\n",
       "      <td>Whoever just unfollowed me you a bitch</td>\n",
       "      <td>1</td>\n",
       "    </tr>\n",
       "    <tr>\n",
       "      <th>2</th>\n",
       "      <td>@user @user Those People Invaded Us!!! They DO...</td>\n",
       "      <td>1</td>\n",
       "    </tr>\n",
       "    <tr>\n",
       "      <th>3</th>\n",
       "      <td>stop JUDGING bitches by there cover, jus cuz s...</td>\n",
       "      <td>1</td>\n",
       "    </tr>\n",
       "    <tr>\n",
       "      <th>4</th>\n",
       "      <td>how about i knock heads off and send them gift...</td>\n",
       "      <td>1</td>\n",
       "    </tr>\n",
       "    <tr>\n",
       "      <th>...</th>\n",
       "      <td>...</td>\n",
       "      <td>...</td>\n",
       "    </tr>\n",
       "    <tr>\n",
       "      <th>2965</th>\n",
       "      <td>@user Calling them #IllegalAliens is heartless...</td>\n",
       "      <td>0</td>\n",
       "    </tr>\n",
       "    <tr>\n",
       "      <th>2966</th>\n",
       "      <td>Silly Killary WANNABE !! And @user numbers JUS...</td>\n",
       "      <td>0</td>\n",
       "    </tr>\n",
       "    <tr>\n",
       "      <th>2967</th>\n",
       "      <td>@user @user @user @user @user @user @user @use...</td>\n",
       "      <td>0</td>\n",
       "    </tr>\n",
       "    <tr>\n",
       "      <th>2968</th>\n",
       "      <td>@user StopImmigration</td>\n",
       "      <td>1</td>\n",
       "    </tr>\n",
       "    <tr>\n",
       "      <th>2969</th>\n",
       "      <td>That bitch on the spoiled whore list   Thought...</td>\n",
       "      <td>1</td>\n",
       "    </tr>\n",
       "  </tbody>\n",
       "</table>\n",
       "<p>2970 rows × 2 columns</p>\n",
       "</div>"
      ],
      "text/plain": [
       "                                                  Tweet Label\n",
       "0     @user , you are correct that Reid certainly is...     0\n",
       "1               Whoever just unfollowed me you a bitch      1\n",
       "2     @user @user Those People Invaded Us!!! They DO...     1\n",
       "3     stop JUDGING bitches by there cover, jus cuz s...     1\n",
       "4     how about i knock heads off and send them gift...     1\n",
       "...                                                 ...   ...\n",
       "2965  @user Calling them #IllegalAliens is heartless...     0\n",
       "2966  Silly Killary WANNABE !! And @user numbers JUS...     0\n",
       "2967  @user @user @user @user @user @user @user @use...     0\n",
       "2968                             @user StopImmigration      1\n",
       "2969  That bitch on the spoiled whore list   Thought...     1\n",
       "\n",
       "[2970 rows x 2 columns]"
      ]
     },
     "metadata": {},
     "output_type": "display_data"
    },
    {
     "name": "stdout",
     "output_type": "stream",
     "text": [
      "\n",
      "---------------------------------------------------------------------------\n",
      "\n",
      "\n",
      " train_data and train_label: \n"
     ]
    },
    {
     "data": {
      "text/html": [
       "<div>\n",
       "<style scoped>\n",
       "    .dataframe tbody tr th:only-of-type {\n",
       "        vertical-align: middle;\n",
       "    }\n",
       "\n",
       "    .dataframe tbody tr th {\n",
       "        vertical-align: top;\n",
       "    }\n",
       "\n",
       "    .dataframe thead th {\n",
       "        text-align: right;\n",
       "    }\n",
       "</style>\n",
       "<table border=\"1\" class=\"dataframe\">\n",
       "  <thead>\n",
       "    <tr style=\"text-align: right;\">\n",
       "      <th></th>\n",
       "      <th>Tweet</th>\n",
       "      <th>Label</th>\n",
       "    </tr>\n",
       "  </thead>\n",
       "  <tbody>\n",
       "    <tr>\n",
       "      <th>0</th>\n",
       "      <td>@user nice new signage. Are you not concerned ...</td>\n",
       "      <td>0</td>\n",
       "    </tr>\n",
       "    <tr>\n",
       "      <th>1</th>\n",
       "      <td>A woman who you fucked multiple times saying y...</td>\n",
       "      <td>1</td>\n",
       "    </tr>\n",
       "    <tr>\n",
       "      <th>2</th>\n",
       "      <td>@user @user real talk do you have eyes or were...</td>\n",
       "      <td>1</td>\n",
       "    </tr>\n",
       "    <tr>\n",
       "      <th>3</th>\n",
       "      <td>your girlfriend lookin at me like a groupie in...</td>\n",
       "      <td>1</td>\n",
       "    </tr>\n",
       "    <tr>\n",
       "      <th>4</th>\n",
       "      <td>Hysterical woman like @user</td>\n",
       "      <td>0</td>\n",
       "    </tr>\n",
       "    <tr>\n",
       "      <th>...</th>\n",
       "      <td>...</td>\n",
       "      <td>...</td>\n",
       "    </tr>\n",
       "    <tr>\n",
       "      <th>8995</th>\n",
       "      <td>Oooohhhh bitch didn't even listen to the dead ...</td>\n",
       "      <td>0</td>\n",
       "    </tr>\n",
       "    <tr>\n",
       "      <th>8996</th>\n",
       "      <td>@user Good Luck @user More Americans #WalkAway...</td>\n",
       "      <td>0</td>\n",
       "    </tr>\n",
       "    <tr>\n",
       "      <th>8997</th>\n",
       "      <td>Bitch you can't keep up so stop trying</td>\n",
       "      <td>1</td>\n",
       "    </tr>\n",
       "    <tr>\n",
       "      <th>8998</th>\n",
       "      <td>@user @user @user @user @user @user Japan is a...</td>\n",
       "      <td>0</td>\n",
       "    </tr>\n",
       "    <tr>\n",
       "      <th>8999</th>\n",
       "      <td>@user hi Best l see someone fucking girl comme...</td>\n",
       "      <td>1</td>\n",
       "    </tr>\n",
       "  </tbody>\n",
       "</table>\n",
       "<p>9000 rows × 2 columns</p>\n",
       "</div>"
      ],
      "text/plain": [
       "                                                  Tweet Label\n",
       "0     @user nice new signage. Are you not concerned ...     0\n",
       "1     A woman who you fucked multiple times saying y...     1\n",
       "2     @user @user real talk do you have eyes or were...     1\n",
       "3     your girlfriend lookin at me like a groupie in...     1\n",
       "4                          Hysterical woman like @user      0\n",
       "...                                                 ...   ...\n",
       "8995  Oooohhhh bitch didn't even listen to the dead ...     0\n",
       "8996  @user Good Luck @user More Americans #WalkAway...     0\n",
       "8997            Bitch you can't keep up so stop trying      1\n",
       "8998  @user @user @user @user @user @user Japan is a...     0\n",
       "8999  @user hi Best l see someone fucking girl comme...     1\n",
       "\n",
       "[9000 rows x 2 columns]"
      ]
     },
     "metadata": {},
     "output_type": "display_data"
    },
    {
     "name": "stdout",
     "output_type": "stream",
     "text": [
      "\n",
      "---------------------------------------------------------------------------\n",
      "\n",
      "\n",
      " val_data and val_label: \n"
     ]
    },
    {
     "data": {
      "text/html": [
       "<div>\n",
       "<style scoped>\n",
       "    .dataframe tbody tr th:only-of-type {\n",
       "        vertical-align: middle;\n",
       "    }\n",
       "\n",
       "    .dataframe tbody tr th {\n",
       "        vertical-align: top;\n",
       "    }\n",
       "\n",
       "    .dataframe thead th {\n",
       "        text-align: right;\n",
       "    }\n",
       "</style>\n",
       "<table border=\"1\" class=\"dataframe\">\n",
       "  <thead>\n",
       "    <tr style=\"text-align: right;\">\n",
       "      <th></th>\n",
       "      <th>Tweet</th>\n",
       "      <th>Label</th>\n",
       "    </tr>\n",
       "  </thead>\n",
       "  <tbody>\n",
       "    <tr>\n",
       "      <th>0</th>\n",
       "      <td>@user @user If book Claire wanted to \"stay in ...</td>\n",
       "      <td>0</td>\n",
       "    </tr>\n",
       "    <tr>\n",
       "      <th>1</th>\n",
       "      <td>After arriving in the EU refugees make protest...</td>\n",
       "      <td>0</td>\n",
       "    </tr>\n",
       "    <tr>\n",
       "      <th>2</th>\n",
       "      <td>😳👇</td>\n",
       "      <td>0</td>\n",
       "    </tr>\n",
       "    <tr>\n",
       "      <th>3</th>\n",
       "      <td>@user Worst thing is if they are that stupid t...</td>\n",
       "      <td>1</td>\n",
       "    </tr>\n",
       "    <tr>\n",
       "      <th>4</th>\n",
       "      <td>@user Say's the HYSTERICAL woman. It is woman ...</td>\n",
       "      <td>0</td>\n",
       "    </tr>\n",
       "    <tr>\n",
       "      <th>...</th>\n",
       "      <td>...</td>\n",
       "      <td>...</td>\n",
       "    </tr>\n",
       "    <tr>\n",
       "      <th>995</th>\n",
       "      <td>Pass #MeritBased Immigration. Kill #ChainMigra...</td>\n",
       "      <td>1</td>\n",
       "    </tr>\n",
       "    <tr>\n",
       "      <th>996</th>\n",
       "      <td>imagine chaeyoung cutting some cooked meat for...</td>\n",
       "      <td>0</td>\n",
       "    </tr>\n",
       "    <tr>\n",
       "      <th>997</th>\n",
       "      <td>I usually dont hate people but I actually hate...</td>\n",
       "      <td>1</td>\n",
       "    </tr>\n",
       "    <tr>\n",
       "      <th>998</th>\n",
       "      <td>Cameron stopped immigrants voting on the EU in...</td>\n",
       "      <td>1</td>\n",
       "    </tr>\n",
       "    <tr>\n",
       "      <th>999</th>\n",
       "      <td>Large scale migration of illegal migrants to D...</td>\n",
       "      <td>0</td>\n",
       "    </tr>\n",
       "  </tbody>\n",
       "</table>\n",
       "<p>1000 rows × 2 columns</p>\n",
       "</div>"
      ],
      "text/plain": [
       "                                                 Tweet Label\n",
       "0    @user @user If book Claire wanted to \"stay in ...     0\n",
       "1    After arriving in the EU refugees make protest...     0\n",
       "2                                                  😳👇      0\n",
       "3    @user Worst thing is if they are that stupid t...     1\n",
       "4    @user Say's the HYSTERICAL woman. It is woman ...     0\n",
       "..                                                 ...   ...\n",
       "995  Pass #MeritBased Immigration. Kill #ChainMigra...     1\n",
       "996  imagine chaeyoung cutting some cooked meat for...     0\n",
       "997  I usually dont hate people but I actually hate...     1\n",
       "998  Cameron stopped immigrants voting on the EU in...     1\n",
       "999  Large scale migration of illegal migrants to D...     0\n",
       "\n",
       "[1000 rows x 2 columns]"
      ]
     },
     "metadata": {},
     "output_type": "display_data"
    },
    {
     "name": "stdout",
     "output_type": "stream",
     "text": [
      "\n",
      "---------------------------------------------------------------------------\n",
      "\n",
      "\n",
      " mapping output: \n",
      "0\tnot-hate\n",
      "1\thate\n"
     ]
    }
   ],
   "source": [
    "def visualiser(tweetVar, labelVar):\n",
    "    tweet_array = []\n",
    "    label_array = []\n",
    "    for i in range(len(tweetVar)):\n",
    "        tweet_array.append({\"Tweet\" : tweetVar[i], \"Label\" : labelVar[i]})\n",
    "        label_array.append(i)\n",
    "    dataframe = pd.DataFrame(tweet_array, index=label_array)\n",
    "    dataframe = dataframe[:-1] # Drop last row, as is a blank\n",
    "    return dataframe\n",
    "\n",
    "testDataFrame = visualiser(test_text, test_labels)\n",
    "trainDataFrame = visualiser(train_text, train_labels)\n",
    "valDataFrame = visualiser(val_text, val_labels)\n",
    "\n",
    "print(\"\\n test_data and test_label: \")\n",
    "display(testDataFrame)\n",
    "print(\"\\n---------------------------------------------------------------------------\\n\")\n",
    "print(\"\\n train_data and train_label: \")\n",
    "display(trainDataFrame)\n",
    "print(\"\\n---------------------------------------------------------------------------\\n\")\n",
    "print(\"\\n val_data and val_label: \")\n",
    "display(valDataFrame)\n",
    "\n",
    "print(\"\\n---------------------------------------------------------------------------\\n\")\n",
    "print(\"\\n mapping output: \")\n",
    "for line in mapping:\n",
    "    print(line)"
   ]
  },
  {
   "cell_type": "markdown",
   "metadata": {},
   "source": [
    "#### Printing basic stats"
   ]
  },
  {
   "cell_type": "code",
   "execution_count": 7,
   "metadata": {},
   "outputs": [
    {
     "name": "stdout",
     "output_type": "stream",
     "text": [
      "The longest tweet in testData is 504 bytes long.\n",
      "The longest tweet in trainData is 304 bytes long.\n",
      "The longest tweet in valData is 530 bytes long.\n",
      "\n",
      "---------------------------------------------------------------------------\n",
      "\n",
      "The shortest tweet in testData is 16 bytes long.\n",
      "The shortest tweet in trainData is 0 bytes long.\n",
      "The shortest tweet in valData is 0 bytes long.\n",
      "\n",
      "\n"
     ]
    }
   ],
   "source": [
    "print(\"The longest tweet in testData is \" + str(testDataFrame.Tweet.str.len().max()) + \" bytes long.\")\n",
    "print(\"The longest tweet in trainData is \" + str(trainDataFrame.Tweet.str.len().max()) + \" bytes long.\")\n",
    "print(\"The longest tweet in valData is \" + str(valDataFrame.Tweet.str.len().max()) + \" bytes long.\")\n",
    "print(\"\\n---------------------------------------------------------------------------\\n\")\n",
    "\n",
    "print(\"The shortest tweet in testData is \" + str(testDataFrame.Tweet.str.len().min()) + \" bytes long.\")\n",
    "print(\"The shortest tweet in trainData is \" + str(trainDataFrame.Tweet.str.len().min()) + \" bytes long.\")\n",
    "print(\"The shortest tweet in valData is \" + str(valDataFrame.Tweet.str.len().min()) + \" bytes long.\")\n",
    "print(\"\\n\")\n"
   ]
  },
  {
   "cell_type": "markdown",
   "metadata": {},
   "source": [
    " ### Presenting data label split (hate vs non-hate tweets)"
   ]
  },
  {
   "cell_type": "code",
   "execution_count": 8,
   "metadata": {},
   "outputs": [],
   "source": [
    "categoryNames = [\"not-hate\", \"hate\"]\n",
    "\n",
    "\n",
    "def mappingVariation(dataFrame):\n",
    "    CountArray = []\n",
    "    hateOrNot = dataFrame.Label.value_counts().sort_index()\n",
    "    \n",
    "    i = 0\n",
    "    for val in hateOrNot:\n",
    "        CountArray.append(val)\n",
    "        i += 1\n",
    "    return hateOrNot\n",
    "\n"
   ]
  },
  {
   "cell_type": "code",
   "execution_count": 9,
   "metadata": {},
   "outputs": [
    {
     "data": {
      "text/plain": [
       "<function matplotlib.pyplot.show(close=None, block=None)>"
      ]
     },
     "execution_count": 9,
     "metadata": {},
     "output_type": "execute_result"
    },
    {
     "data": {
      "image/png": "[encoded data removed]",
      "text/plain": [
       "<Figure size 825x825 with 1 Axes>"
      ]
     },
     "metadata": {},
     "output_type": "display_data"
    }
   ],
   "source": [
    "testDataFrameCount = mappingVariation(testDataFrame)\n",
    "mpl.figure(figsize=(3,3), dpi=275)\n",
    "mpl.pie(testDataFrameCount, labels=categoryNames, textprops={'fontsize':4}, autopct='%1.2f%%')\n",
    "mpl.suptitle('% Of hate in test_data')\n",
    "mpl.show"
   ]
  },
  {
   "cell_type": "code",
   "execution_count": 10,
   "metadata": {},
   "outputs": [
    {
     "data": {
      "text/plain": [
       "<function matplotlib.pyplot.show(close=None, block=None)>"
      ]
     },
     "execution_count": 10,
     "metadata": {},
     "output_type": "execute_result"
    },
    {
     "data": {
      "image/png": "[encoded data removed]",
      "text/plain": [
       "<Figure size 825x825 with 1 Axes>"
      ]
     },
     "metadata": {},
     "output_type": "display_data"
    }
   ],
   "source": [
    "trainDataFrameCount = mappingVariation(trainDataFrame)\n",
    "mpl.figure(figsize=(3,3), dpi=275)\n",
    "mpl.pie(trainDataFrameCount, labels=categoryNames, textprops={'fontsize':4}, autopct='%1.2f%%')\n",
    "mpl.suptitle('% Of hate in train_data')\n",
    "mpl.show"
   ]
  },
  {
   "cell_type": "code",
   "execution_count": 11,
   "metadata": {},
   "outputs": [
    {
     "data": {
      "text/plain": [
       "<function matplotlib.pyplot.show(close=None, block=None)>"
      ]
     },
     "execution_count": 11,
     "metadata": {},
     "output_type": "execute_result"
    },
    {
     "data": {
      "image/png": "[encoded data removed]",
      "text/plain": [
       "<Figure size 825x825 with 1 Axes>"
      ]
     },
     "metadata": {},
     "output_type": "display_data"
    }
   ],
   "source": [
    "valDataFrameCount = mappingVariation(valDataFrame)\n",
    "mpl.figure(figsize=(3,3), dpi=275)\n",
    "mpl.pie(valDataFrameCount, labels=categoryNames, textprops={'fontsize':4}, autopct='%1.2f%%')\n",
    "mpl.suptitle('% Of hate in val_data')\n",
    "mpl.show"
   ]
  },
  {
   "cell_type": "markdown",
   "metadata": {},
   "source": [
    "# Natural Language Toolkit"
   ]
  },
  {
   "cell_type": "markdown",
   "metadata": {},
   "source": [
    " ### Testing out NLTK stopword removal"
   ]
  },
  {
   "cell_type": "code",
   "execution_count": 12,
   "metadata": {},
   "outputs": [
    {
     "name": "stderr",
     "output_type": "stream",
     "text": [
      "[nltk_data] Downloading package stopwords to\n",
      "[nltk_data]     C:\\Users\\gdark\\AppData\\Roaming\\nltk_data...\n",
      "[nltk_data]   Package stopwords is already up-to-date!\n"
     ]
    },
    {
     "name": "stdout",
     "output_type": "stream",
     "text": [
      "['@', 'user', ',', 'correct', 'Reid', 'certainly', 'weasel', '.', 'Sadly', ',', \"'ve\", 'got', 'weasels', ';', '@', 'user', 'Sen', 'McConnell', '&', '@', 'user', '.The', 'corrupt', 'Mueller', 'investigation', 'w/be', 'STOPPED', '3', 'jobs.', '#', 'MAGA', '#', 'KAG', '#', 'POTUS', '#', 'Trump', '#', 'NEWS', '#', 'VoteRed', '#', 'NoDACA', '#', 'USA']\n",
      "['Whoever', 'unfollowed', 'bitch']\n",
      "['@', 'user', '@', 'user', 'Those', 'People', 'Invaded', 'Us', '!', '!', '!', 'They', 'DO', 'NOT', 'BELING', 'HERE', '&', 'HAVE', 'NO', 'RIGHTS', '!', 'Its', '#', 'AmericaFIRST', '!', 'Open', 'Your', 'House', 'To', 'Them', 'If', 'Your', 'That', 'IGNORANT', '!', '&', 'Yes', 'Im', 'A', '#', 'Christian', 'Too', '!', '#', 'NODACA', '!']\n",
      "['stop', 'JUDGING', 'bitches', 'cover', ',', 'jus', 'cuz', 'bad', \"n't\", 'mean', \"'s\", 'catch', 'shawdy', 'could', 'whore', '👀', 'opposite', 'keeper']\n",
      "['knock', 'heads', 'send', 'gift', 'wrapped', 'moms', 'house', 'dumb', 'raggedy', 'bird', 'bitch', 'ass', 'hoes']\n",
      "['@', 'user', '@', 'user', '@', 'user', 'Always', '#', 'NoDACA.I', 'AM', 'BORN', 'IN', '#', 'USA', 'AND', '#', 'USA', 'FIRST', '.']\n",
      "['@', 'user', 'friends', '?', \"'s\", 'BLOOD', 'brother', 'bitch', '..', 'city', '!', '!', \"'m\", 'hours', 'away', '.', 'tomo…']\n",
      "['@', 'user', '@', 'user', 'Muslims', 'attacked', 'US', '9/11', ',', '3000', 'killed', '.', 'Subsequently', 'allowed', 'Muslims', 'country', '?', '!', '?', 'Does', 'make', 'sense', '?', 'You', 'thank', 'Obama', ',', 'liberals', 'minions', ',', 'RINO', \"'s\", '&', 'political', 'correctness', '.', '#', 'MuslimBan', '#', 'BanIslam', '#', 'TravelBan', '#', 'DrainTheDeepState', '#', 'DeportThemAll']\n",
      "['@', 'user', '@', 'user', 'Like', 'ever', 'kept', 'threats', '.', 'He', \"'s\", 'lying', 'usual', '.', '#', 'BuildThatWall']\n",
      "['#', 'germany', 'deserves', 'called', '#', 'cuck/land', 'allow', '#', 'isis', 'fighters', '#', 'Refugees', 'even', 'raped', 'underaged', 'girls', '.', '#', 'yazidi', 'girl', 'scared', 'forced', 'see', 'rapist.', '#', 'refugeesnotwelcome', 'apply', 'scum']\n",
      "['@', 'user', '@', 'user', 'They', 'scrim', 'whoever', 'fucking', \"n't\", 'fucking', 'chall', 'dumb', 'bitch']\n",
      "['Ok', 'bitch', 'nigga', '.', 'You', \"n't\", 'even', 'watch', 'basketball', '!', 'Stfu', '.', 'Who', 'laker', 'coach', 'year', '?', 'Bet', 'ass', 'look', 'up…']\n",
      "['@', 'user', '@', 'user', 'Absolutely', '!', 'No', 'DACA', ',', 'No', 'Amnesty', ',', 'No', 'Sanctury', 'Cities', ',', 'Deport', 'All', 'Illegal', 'Aliens', ',', 'Build', 'The', 'Wall', '!', '#', 'MAGA', '#', '2A', '#', 'NoDACA', '#', 'DeportThemAll', '#', 'BuildTheWall', '#', 'OBAMAgate', '#', 'StandWithICE', '#', 'PEDOgate', '#', 'LockThemAllUp', '#', 'BanIslam', '#', 'TRUMP2020', '@', 'user', '@', 'user']\n",
      "['Fuck', 'whoever', 'drank', '2', 'teas', '.', 'Fuck', '.', 'And', 'fucking', 'family', '.', 'And', 'I', 'wish', 'bad', 'juju', 'karma', '.', 'Because', \"'re\", 'mf', 'cunt', 'waffle', '.']\n",
      "['@', 'user', '@', 'user', 'Toronto', 'starting', 'sound', 'like', 'LondonstanWe', 'get', '#', 'MadMax2019', 'train', '!', '!', '@', 'MaximeBernier', 'get', 'country', 'back.', '#', 'BanMuslims', '#', 'BanIslam', '#', 'SendThemBack']\n",
      "['Thank', '@', 'user', '@', 'user', 'right', 'thing', 'appointing', 'John', 'Kyl', 'seat', 'late', '@', 'user', 'America', 'Thanks', 'You', '!', 'Please', '#', 'RETWEETConfirm', 'Kavanaugh', '#', 'SCOTUS', 'Join', 'us', '@', '#', 'BuildThatWall', '@']\n",
      "['Shut', 'dumbass', 'bitch', 'know']\n",
      "['Neva', 'trust', 'bitch🤘', 'tell', \"n't\", 'got', 'hoes', 'nigga', \"'s\", 'ass', 'lying💯']\n",
      "['You', 'cuff', 'bitch', 'goofy', 'cause', 'brudda', 'josh', 'break', '.']\n",
      "['There', 'Cronulla', 'Roits', '2', 'Melbourne', '.', '#', 'wearesickofit', '#', 'sendthemhome']\n",
      "['If', \"'s\", 'true', 'Ky', 'bitch', '.', 'But', \"'s\", 'best', 'PG', 'league', 'let', \"'s\", 'grab', 'whoever', 'Bron', 'wants', 'play', 'trade', '&', 'win', 'titles']\n",
      "['Whenever', 'HP', 'I', 'sick', 'need', 'watch', '&', 'bitch', 'whole', 'time', '.', 'Scene', 'grind', 'gears', ':', '``', 'HARRY', 'DID', 'U', 'PUT', 'UR', 'NAME', 'IN', 'GOF', '!', '?', '``', '📢']\n",
      "['Bitches', 'Boyfriends/baby', 'daddy/', 'husband', 'locked', '10', 'minutes', 'already', 'going', 'bitch', 'sad', '😂']\n",
      "['Trump', 'wants', 'deport', 'illegal', 'aliens', \"'no\", 'judges', 'court', 'cases', \"'\", '#', 'MeTooI', 'solidly', 'behind', 'actionThe', 'thought', 'someone', 'illegally', 'entering', 'country', '&', 'showing', 'respect', 'laws', ',', 'protected', 'laws', 'ludacris', '!', '#', 'DeportThemAll']\n",
      "['@', 'user', 'Please', 'visit', 'today', 'honor', 'thousands', 'victims', 'killed', 'illegal', 'aliens', '!', 'We', 'building', 'memorial', 'wall.', '#', 'RETWEETHelp', '#', 'BuildThatWall', 'memory', '!', 'Follow', '@', 'user', '&', '@', 'user']\n",
      "['@', 'user', '@', 'user', 'Agreed', '!', 'Tonight', \"'s\", 'show', 'informative', '.', 'Tucker', 'brilliant', ',', '@', 'user', 'smart', '#', 'BuildThatWall']\n",
      "['flashback', 'freshman', 'year', '😂😂😂', '&', 'whoever', 'still', 'video', ',', 'youza', 'creep', 'ass', 'bitch😂']\n",
      "['8', '.', 'I', 'REMEMBER', 'LIVE', 'DMING', 'U', 'DWP', '.', 'ur', 'g', 'hope', 'yr', '11', 'treats', 'right', '.', 'REMEMBER', 'MY', 'ADIVCE', 'U', 'BITCH', 'ASS', 'CUNT', '.', 'ilysm', '!', '!']\n",
      "['Bitches', 'hollering', \"'s\", 'tooo', 'hot', '!', '!', 'Well', 'bitch', 'go', 'back', 'winter', 'shit', \"n't\", 'yelling', 'ass', 'freezing', '🙄👉']\n",
      "['#', 'ConfirmKavanaugh', '#', 'Democrats', 'thrash', 'scream', 'matter', '@', 'user', '.', '#', 'RINOS', 'stop', '#', 'obstructing', 'Let', \"'s\", 'fulfill', '#', 'MAGA', 'agenda', '!', '#', 'BuildThatWall', '#', 'NoSanctuary', '#', 'DrainTheSwamp', '#', 'AmericaFirst', '#', 'ConfirmJudgeKavanaugh', '#', 'DemocratsHateAmerica', '#', 'WalkAway', '#', 'VoteRedToSaveAmerica']\n"
     ]
    }
   ],
   "source": [
    "from nltk.corpus import stopwords\n",
    "nltk.download('stopwords')\n",
    "from nltk.tokenize import word_tokenize\n",
    "\n",
    "for x in range(30):\n",
    "    noStopWords = \"\"\n",
    "    wordBag = word_tokenize(test_text[x])\n",
    "    noStopWords = [word for word in wordBag if not word in stopwords.words()]\n",
    "    print(noStopWords)"
   ]
  },
  {
   "cell_type": "markdown",
   "metadata": {},
   "source": [
    " ### Testing out NLTK stemming"
   ]
  },
  {
   "cell_type": "code",
   "execution_count": 13,
   "metadata": {},
   "outputs": [
    {
     "name": "stdout",
     "output_type": "stream",
     "text": [
      " @ user , you are correct that reid certainli is a weasel . sadli , we 've got our own weasel ; @ user sen mcconnel & @ user .the corrupt mueller investig w/be stop if those 3 did their jobs. # maga # kag # potu # trump # new # voter # nodaca # usa\n",
      " whoever just unfollow me you a bitch\n",
      " @ user @ user those peopl invad Us ! ! ! they DO not bele here & have NO right ! it # americafirst ! open your hous To them If your that ignor ! & ye Im A # christian too ! # nodaca !\n",
      " stop judg bitch by there cover , ju cuz she bad do n't mean she 's a catch shawdi could be a whore 👀 da opposit of a keeper\n",
      " how about i knock head off and send them gift wrap to your mom hous you dumb raggedi bird bitch ass hoe\n",
      " @ user @ user @ user alway # nodaca.i AM born IN # usa and # usa first .\n",
      " @ user friend ? that 's my blood brother bitch .. he in yo citi ! ! i 'm hour away . ill be through there tomo…\n",
      " @ user @ user muslim attack US on 9/11 , 3000 kill . subsequ we allow more muslim in our countri ? ! ? doe thi make ani sens to you ? you can thank obama , hi liber minion , rino 's & polit correct . # muslimban # banislam # travelban # drainthedeepst # deportthemal\n",
      " @ user @ user like he ever kept out ani threat . He 's lie as usual . # buildthatwal\n",
      " # germani deserv to call # cuck/land they allow in # isi fighter as # refuge even if they rape underag girl . thi # yazidi girl is scare of thi and she is forc to see the face of her rapist. # refugeesnotwelcom should appli to these scum\n",
      " @ user @ user they can scrim whoever they fuck want thi is n't a fuck chall you dumb bitch\n",
      " Ok bitch nigga . you do n't even watch basketbal ! stfu . who wa the laker coach thi year ? bet yo hoe ass look it up…\n",
      " @ user @ user absolut ! No daca , No amnesti , No sancturi citi , deport all illeg alien , build the wall ! # maga # 2A # nodaca # deportthemal # buildthewal # obamag # standwithic # pedog # lockthemallup # banislam # trump2020 @ user @ user\n",
      " fuck whoever drank 2 of my tea . fuck you . and your fuck famili . and I wish bad juju karma on you . becaus you 're a mf cunt waffl .\n",
      " @ user @ user toronto is start to sound like londonstanw have to get on the # madmax2019 train ! ! @ maximeberni is the onli one who can get our countri back. # banmuslim # banislam # sendthemback\n",
      " thank you @ user @ user for do the right thing and appoint john kyl to the seat of the late @ user america thank you ! pleas # retweetconfirm kavanaugh to # scotu join us @ # buildthatwal @\n",
      " shut your dumbass up bitch we all know you a hoe\n",
      " neva trust a bitch🤘 if she tell you she do n't got hoe or nigga 's her ass lying💯\n",
      " you cuff dat bitch you goofi hoe caus my brudda josh been break dat hoe .\n",
      " there will be a cronulla roit 2 in melbourn . # wearesickofit # sendthemhom\n",
      " If that 's true Ky is a bitch . but he 's the best PG in the leagu so let 's grab whoever bron want to play with in a trade & win more titl\n",
      " whenev HP is on I have thi sick need to watch it & bitch the whole time . scene that grind my gear : `` harri did U put UR name IN gof ! ? `` 📢\n",
      " bitch boyfriends/babi daddy/ husband be lock up for 10 minut and alreadi go out to be a hoe bitch you sad 😂\n",
      " trump want to deport illeg alien with 'no judg or court case ' # metooi am solidli behind thi actionth thought of someon illeg enter a countri & show no respect for it law , should be protect by same law is ludacri ! # deportthemal\n",
      " @ user pleas visit today to honor the thousand of victim kill by illeg alien ! We are build a memori wall. # retweethelp # buildthatwal in their memori ! follow @ user & @ user\n",
      " @ user @ user agre ! tonight 's show wa veri inform . tucker is brilliant , and @ user is so smart # buildthatwal\n",
      " flashback to freshman year 😂😂😂 & to whoever still ha thi video , youza creep ass bitch😂\n",
      " 8 . I rememb live dming U dwp . ur a g and i hope yr 11 treat u right . rememb MY adivc U bitch ass cunt . ilysm ! !\n",
      " bitch holler it 's tooo hot ! ! well bitch go back to winter you can have that shit hoe you wa n't yell it when yo ass wa freez 🙄👉\n",
      " # confirmkavanaugh # democrat will thrash and scream no matter what @ user doe . # rino stop # obstruct let 's fulfil # maga agenda ! # buildthatwal # nosanctuari # draintheswamp # americafirst # confirmjudgekavanaugh # democratshateamerica # walkaway # voteredtosaveamerica\n"
     ]
    }
   ],
   "source": [
    "from nltk.stem import PorterStemmer \n",
    "from nltk.tokenize import word_tokenize \n",
    "\n",
    "\n",
    "stemmer = PorterStemmer()\n",
    "\n",
    "\n",
    "for x in range(30):\n",
    "    stemmed = \"\"\n",
    "    wordBag = word_tokenize(test_text[x])\n",
    "    for y in range(len(wordBag)):\n",
    "        stemmed += \" \" + stemmer.stem(wordBag[y])\n",
    "    print(stemmed)"
   ]
  },
  {
   "cell_type": "code",
   "execution_count": null,
   "metadata": {},
   "outputs": [],
   "source": []
  }
 ],
 "metadata": {
  "kernelspec": {
   "display_name": "Python 3",
   "language": "python",
   "name": "python3"
  },
  "language_info": {
   "codemirror_mode": {
    "name": "ipython",
    "version": 3
   },
   "file_extension": ".py",
   "mimetype": "text/x-python",
   "name": "python",
   "nbconvert_exporter": "python",
   "pygments_lexer": "ipython3",
   "version": "3.8.5"
  }
 },
 "nbformat": 4,
 "nbformat_minor": 4
}
