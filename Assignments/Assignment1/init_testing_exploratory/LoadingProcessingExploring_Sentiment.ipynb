{
 "cells": [
  {
   "cell_type": "markdown",
   "metadata": {},
   "source": [
    "# Loading, testing, and exploring the 'Sentiment' dataset"
   ]
  },
  {
   "cell_type": "markdown",
   "metadata": {},
   "source": [
    " #### Installing, importing, and defining required packages"
   ]
  },
  {
   "cell_type": "code",
   "execution_count": 1,
   "metadata": {},
   "outputs": [
    {
     "name": "stdout",
     "output_type": "stream",
     "text": [
      "Requirement already satisfied: transformers in c:\\programdata\\anaconda3\\lib\\site-packages (4.3.2)\n",
      "Requirement already satisfied: filelock in c:\\programdata\\anaconda3\\lib\\site-packages (from transformers) (3.0.12)\n",
      "Requirement already satisfied: packaging in c:\\programdata\\anaconda3\\lib\\site-packages (from transformers) (20.4)\n",
      "Requirement already satisfied: sacremoses in c:\\programdata\\anaconda3\\lib\\site-packages (from transformers) (0.0.43)\n",
      "Requirement already satisfied: requests in c:\\programdata\\anaconda3\\lib\\site-packages (from transformers) (2.24.0)\n",
      "Requirement already satisfied: tqdm>=4.27 in c:\\programdata\\anaconda3\\lib\\site-packages (from transformers) (4.50.2)\n",
      "Requirement already satisfied: regex!=2019.12.17 in c:\\programdata\\anaconda3\\lib\\site-packages (from transformers) (2020.10.15)\n",
      "Requirement already satisfied: tokenizers<0.11,>=0.10.1 in c:\\programdata\\anaconda3\\lib\\site-packages (from transformers) (0.10.1)\n",
      "Requirement already satisfied: numpy>=1.17 in c:\\programdata\\anaconda3\\lib\\site-packages (from transformers) (1.19.2)\n",
      "Requirement already satisfied: pyparsing>=2.0.2 in c:\\programdata\\anaconda3\\lib\\site-packages (from packaging->transformers) (2.4.7)\n",
      "Requirement already satisfied: six in c:\\programdata\\anaconda3\\lib\\site-packages (from packaging->transformers) (1.15.0)\n",
      "Requirement already satisfied: click in c:\\programdata\\anaconda3\\lib\\site-packages (from sacremoses->transformers) (7.1.2)\n",
      "Requirement already satisfied: joblib in c:\\programdata\\anaconda3\\lib\\site-packages (from sacremoses->transformers) (0.17.0)\n",
      "Requirement already satisfied: urllib3!=1.25.0,!=1.25.1,<1.26,>=1.21.1 in c:\\programdata\\anaconda3\\lib\\site-packages (from requests->transformers) (1.25.11)\n",
      "Requirement already satisfied: certifi>=2017.4.17 in c:\\programdata\\anaconda3\\lib\\site-packages (from requests->transformers) (2020.6.20)\n",
      "Requirement already satisfied: chardet<4,>=3.0.2 in c:\\programdata\\anaconda3\\lib\\site-packages (from requests->transformers) (3.0.4)\n",
      "Requirement already satisfied: idna<3,>=2.5 in c:\\programdata\\anaconda3\\lib\\site-packages (from requests->transformers) (2.10)\n",
      "Requirement already satisfied: torch in c:\\programdata\\anaconda3\\lib\\site-packages (1.7.1)\n",
      "Requirement already satisfied: typing_extensions in c:\\programdata\\anaconda3\\lib\\site-packages (from torch) (3.7.4.3)\n",
      "Requirement already satisfied: numpy in c:\\programdata\\anaconda3\\lib\\site-packages (from torch) (1.19.2)\n",
      "Requirement already satisfied: pandas in c:\\programdata\\anaconda3\\lib\\site-packages (1.1.3)\n",
      "Requirement already satisfied: python-dateutil>=2.7.3 in c:\\programdata\\anaconda3\\lib\\site-packages (from pandas) (2.8.1)\n",
      "Requirement already satisfied: numpy>=1.15.4 in c:\\programdata\\anaconda3\\lib\\site-packages (from pandas) (1.19.2)\n",
      "Requirement already satisfied: pytz>=2017.2 in c:\\programdata\\anaconda3\\lib\\site-packages (from pandas) (2020.1)\n",
      "Requirement already satisfied: six>=1.5 in c:\\programdata\\anaconda3\\lib\\site-packages (from python-dateutil>=2.7.3->pandas) (1.15.0)\n",
      "Requirement already satisfied: numpy in c:\\programdata\\anaconda3\\lib\\site-packages (1.19.2)\n",
      "Requirement already satisfied: tabulate in c:\\programdata\\anaconda3\\lib\\site-packages (0.8.9)\n",
      "Requirement already satisfied: emoji in c:\\programdata\\anaconda3\\lib\\site-packages (1.2.0)\n"
     ]
    }
   ],
   "source": [
    "!pip install transformers\n",
    "!pip install torch\n",
    "!pip install pandas\n",
    "!pip install numpy\n",
    "!pip install tabulate\n",
    "!pip install emoji\n",
    "import csv\n",
    "import matplotlib.pyplot as mpl\n",
    "import requests\n",
    "import urllib\n",
    "import pandas as pd\n",
    "import numpy as np\n",
    "from pathlib import Path\n",
    "from urllib.request import urlopen\n",
    "import nltk\n",
    "nltk.download('punkt')"
   ]
  },
  {
   "cell_type": "markdown",
   "metadata": {},
   "source": [
    "# Import Sentiment dataset"
   ]
  },
  {
   "cell_type": "code",
   "execution_count": 2,
   "metadata": {},
   "outputs": [],
   "source": [
    "MAPPING_URL = \"https://raw.githubusercontent.com/GDarkens/CE888/main/Assignments/Assignment1/tweeteval/datasets/sentiment/mapping.txt\"\n",
    "mapping = urlopen(MAPPING_URL).read().decode('utf-8').split(\"\\n\")\n",
    "\n",
    "\n",
    "TEST_LABELS_URL = \"https://raw.githubusercontent.com/GDarkens/CE888/main/Assignments/Assignment1/tweeteval/datasets/sentiment/test_labels.txt\"\n",
    "test_labels = urlopen(TEST_LABELS_URL).read().decode('utf-8').split(\"\\n\")\n",
    "\n",
    "\n",
    "TEST_TEXT_URL = \"https://raw.githubusercontent.com/GDarkens/CE888/main/Assignments/Assignment1/tweeteval/datasets/sentiment/test_text.txt\"\n",
    "test_text = urlopen(TEST_TEXT_URL).read().decode('utf-8').split(\"\\n\")\n",
    "\n",
    "\n",
    "TRAIN_LABELS_URL = \"https://raw.githubusercontent.com/GDarkens/CE888/main/Assignments/Assignment1/tweeteval/datasets/sentiment/train_labels.txt\"\n",
    "train_labels = urlopen(TRAIN_LABELS_URL).read().decode('utf-8').split(\"\\n\")\n",
    "\n",
    "\n",
    "TRAIN_TEXT_URL = \"https://raw.githubusercontent.com/GDarkens/CE888/main/Assignments/Assignment1/tweeteval/datasets/sentiment/train_text.txt\"\n",
    "train_text = urlopen(TRAIN_TEXT_URL).read().decode('utf-8').split(\"\\n\")\n",
    "\n",
    "\n",
    "VAL_LABELS_URL = \"https://raw.githubusercontent.com/GDarkens/CE888/main/Assignments/Assignment1/tweeteval/datasets/sentiment/val_labels.txt\"\n",
    "val_labels = urlopen(VAL_LABELS_URL).read().decode('utf-8').split(\"\\n\")\n",
    "\n",
    "\n",
    "VAL_TEXT_URL = \"https://raw.githubusercontent.com/GDarkens/CE888/main/Assignments/Assignment1/tweeteval/datasets/sentiment/val_text.txt\"\n",
    "val_text = urlopen(VAL_TEXT_URL).read().decode('utf-8').split(\"\\n\")\n",
    "\n",
    "\n"
   ]
  },
  {
   "cell_type": "markdown",
   "metadata": {},
   "source": [
    " #### Basic info about imported data structures (all values should be in thousands, apart from mapping.txt)"
   ]
  },
  {
   "cell_type": "code",
   "execution_count": 3,
   "metadata": {},
   "outputs": [
    {
     "name": "stdout",
     "output_type": "stream",
     "text": [
      "Mapping information:\n",
      "mapping.txt length: 4\n",
      "\n",
      "Test data information:\n",
      "test_labels.txt length: 12285\n",
      "test_text.txt length: 12285\n",
      "\n",
      "Training data information:\n",
      "train_labels.txt length: 45616\n",
      "train_text.txt length: 45616\n",
      "\n",
      "Value data information:\n",
      "val_labels.txt length: 2001\n",
      "val_text.txt length: 2001\n"
     ]
    }
   ],
   "source": [
    "print(\"Mapping information:\")\n",
    "print(\"mapping.txt length: \" + str(len(mapping)) + \"\\n\")\n",
    "\n",
    "print(\"Test data information:\")\n",
    "print(\"test_labels.txt length: \" + str(len(test_labels)))\n",
    "print(\"test_text.txt length: \" + str(len(test_text)) + \"\\n\")\n",
    "\n",
    "print(\"Training data information:\")\n",
    "print(\"train_labels.txt length: \" + str(len(train_labels)))\n",
    "print(\"train_text.txt length: \" + str(len(train_text)) + \"\\n\")\n",
    "      \n",
    "print(\"Value data information:\")\n",
    "print(\"val_labels.txt length: \" + str(len(val_labels)))\n",
    "print(\"val_text.txt length: \" + str(len(val_text)))\n"
   ]
  },
  {
   "cell_type": "code",
   "execution_count": 4,
   "metadata": {},
   "outputs": [
    {
     "name": "stdout",
     "output_type": "stream",
     "text": [
      "\n",
      " test_data and test_label: \n"
     ]
    },
    {
     "data": {
      "text/html": [
       "<div>\n",
       "<style scoped>\n",
       "    .dataframe tbody tr th:only-of-type {\n",
       "        vertical-align: middle;\n",
       "    }\n",
       "\n",
       "    .dataframe tbody tr th {\n",
       "        vertical-align: top;\n",
       "    }\n",
       "\n",
       "    .dataframe thead th {\n",
       "        text-align: right;\n",
       "    }\n",
       "</style>\n",
       "<table border=\"1\" class=\"dataframe\">\n",
       "  <thead>\n",
       "    <tr style=\"text-align: right;\">\n",
       "      <th></th>\n",
       "      <th>Tweet</th>\n",
       "      <th>Label</th>\n",
       "    </tr>\n",
       "  </thead>\n",
       "  <tbody>\n",
       "    <tr>\n",
       "      <th>0</th>\n",
       "      <td>@user @user what do these '1/2 naked pics' hav...</td>\n",
       "      <td>1</td>\n",
       "    </tr>\n",
       "    <tr>\n",
       "      <th>1</th>\n",
       "      <td>OH: “I had a blue penis while I was this” [pla...</td>\n",
       "      <td>1</td>\n",
       "    </tr>\n",
       "    <tr>\n",
       "      <th>2</th>\n",
       "      <td>@user @user That's coming, but I think the vic...</td>\n",
       "      <td>1</td>\n",
       "    </tr>\n",
       "    <tr>\n",
       "      <th>3</th>\n",
       "      <td>I think I may be finally in with the in crowd ...</td>\n",
       "      <td>2</td>\n",
       "    </tr>\n",
       "    <tr>\n",
       "      <th>4</th>\n",
       "      <td>@user Wow,first Hugo Chavez and now Fidel Cast...</td>\n",
       "      <td>0</td>\n",
       "    </tr>\n",
       "    <tr>\n",
       "      <th>...</th>\n",
       "      <td>...</td>\n",
       "      <td>...</td>\n",
       "    </tr>\n",
       "    <tr>\n",
       "      <th>12279</th>\n",
       "      <td>Sentinel Editorial: FBI’s Comey ‘had no one of...</td>\n",
       "      <td>1</td>\n",
       "    </tr>\n",
       "    <tr>\n",
       "      <th>12280</th>\n",
       "      <td>perfect pussy clips #vanessa hudgens zac efron...</td>\n",
       "      <td>1</td>\n",
       "    </tr>\n",
       "    <tr>\n",
       "      <th>12281</th>\n",
       "      <td>#latestnews 4 #newmexico #politics + #nativeam...</td>\n",
       "      <td>1</td>\n",
       "    </tr>\n",
       "    <tr>\n",
       "      <th>12282</th>\n",
       "      <td>Trying to have a conversation with my dad abou...</td>\n",
       "      <td>0</td>\n",
       "    </tr>\n",
       "    <tr>\n",
       "      <th>12283</th>\n",
       "      <td>@user You are a stand up guy and a Gentleman V...</td>\n",
       "      <td>2</td>\n",
       "    </tr>\n",
       "  </tbody>\n",
       "</table>\n",
       "<p>12284 rows × 2 columns</p>\n",
       "</div>"
      ],
      "text/plain": [
       "                                                   Tweet Label\n",
       "0      @user @user what do these '1/2 naked pics' hav...     1\n",
       "1      OH: “I had a blue penis while I was this” [pla...     1\n",
       "2      @user @user That's coming, but I think the vic...     1\n",
       "3      I think I may be finally in with the in crowd ...     2\n",
       "4      @user Wow,first Hugo Chavez and now Fidel Cast...     0\n",
       "...                                                  ...   ...\n",
       "12279  Sentinel Editorial: FBI’s Comey ‘had no one of...     1\n",
       "12280  perfect pussy clips #vanessa hudgens zac efron...     1\n",
       "12281  #latestnews 4 #newmexico #politics + #nativeam...     1\n",
       "12282  Trying to have a conversation with my dad abou...     0\n",
       "12283  @user You are a stand up guy and a Gentleman V...     2\n",
       "\n",
       "[12284 rows x 2 columns]"
      ]
     },
     "metadata": {},
     "output_type": "display_data"
    },
    {
     "name": "stdout",
     "output_type": "stream",
     "text": [
      "\n",
      "---------------------------------------------------------------------------\n",
      "\n",
      "\n",
      " train_data and train_label: \n"
     ]
    },
    {
     "data": {
      "text/html": [
       "<div>\n",
       "<style scoped>\n",
       "    .dataframe tbody tr th:only-of-type {\n",
       "        vertical-align: middle;\n",
       "    }\n",
       "\n",
       "    .dataframe tbody tr th {\n",
       "        vertical-align: top;\n",
       "    }\n",
       "\n",
       "    .dataframe thead th {\n",
       "        text-align: right;\n",
       "    }\n",
       "</style>\n",
       "<table border=\"1\" class=\"dataframe\">\n",
       "  <thead>\n",
       "    <tr style=\"text-align: right;\">\n",
       "      <th></th>\n",
       "      <th>Tweet</th>\n",
       "      <th>Label</th>\n",
       "    </tr>\n",
       "  </thead>\n",
       "  <tbody>\n",
       "    <tr>\n",
       "      <th>0</th>\n",
       "      <td>\"QT @user In the original draft of the 7th boo...</td>\n",
       "      <td>2</td>\n",
       "    </tr>\n",
       "    <tr>\n",
       "      <th>1</th>\n",
       "      <td>\"Ben Smith / Smith (concussion) remains out of...</td>\n",
       "      <td>1</td>\n",
       "    </tr>\n",
       "    <tr>\n",
       "      <th>2</th>\n",
       "      <td>Sorry bout the stream last night I crashed out...</td>\n",
       "      <td>1</td>\n",
       "    </tr>\n",
       "    <tr>\n",
       "      <th>3</th>\n",
       "      <td>Chase Headley's RBI double in the 8th inning o...</td>\n",
       "      <td>1</td>\n",
       "    </tr>\n",
       "    <tr>\n",
       "      <th>4</th>\n",
       "      <td>@user Alciato: Bee will invest 150 million in ...</td>\n",
       "      <td>2</td>\n",
       "    </tr>\n",
       "    <tr>\n",
       "      <th>...</th>\n",
       "      <td>...</td>\n",
       "      <td>...</td>\n",
       "    </tr>\n",
       "    <tr>\n",
       "      <th>45610</th>\n",
       "      <td>@user \\\"\"So amazing to have the beautiful Lady...</td>\n",
       "      <td>2</td>\n",
       "    </tr>\n",
       "    <tr>\n",
       "      <th>45611</th>\n",
       "      <td>9 September has arrived, which means Apple's n...</td>\n",
       "      <td>2</td>\n",
       "    </tr>\n",
       "    <tr>\n",
       "      <th>45612</th>\n",
       "      <td>Leeds 1-1 Sheff Wed. Giuseppe Bellusci securin...</td>\n",
       "      <td>2</td>\n",
       "    </tr>\n",
       "    <tr>\n",
       "      <th>45613</th>\n",
       "      <td>@user no I'm in hilton head till the 8th lol g...</td>\n",
       "      <td>1</td>\n",
       "    </tr>\n",
       "    <tr>\n",
       "      <th>45614</th>\n",
       "      <td>WASHINGTON (Reuters) - U.S. Vice President Joe...</td>\n",
       "      <td>1</td>\n",
       "    </tr>\n",
       "  </tbody>\n",
       "</table>\n",
       "<p>45615 rows × 2 columns</p>\n",
       "</div>"
      ],
      "text/plain": [
       "                                                   Tweet Label\n",
       "0      \"QT @user In the original draft of the 7th boo...     2\n",
       "1      \"Ben Smith / Smith (concussion) remains out of...     1\n",
       "2      Sorry bout the stream last night I crashed out...     1\n",
       "3      Chase Headley's RBI double in the 8th inning o...     1\n",
       "4      @user Alciato: Bee will invest 150 million in ...     2\n",
       "...                                                  ...   ...\n",
       "45610  @user \\\"\"So amazing to have the beautiful Lady...     2\n",
       "45611  9 September has arrived, which means Apple's n...     2\n",
       "45612  Leeds 1-1 Sheff Wed. Giuseppe Bellusci securin...     2\n",
       "45613  @user no I'm in hilton head till the 8th lol g...     1\n",
       "45614  WASHINGTON (Reuters) - U.S. Vice President Joe...     1\n",
       "\n",
       "[45615 rows x 2 columns]"
      ]
     },
     "metadata": {},
     "output_type": "display_data"
    },
    {
     "name": "stdout",
     "output_type": "stream",
     "text": [
      "\n",
      "---------------------------------------------------------------------------\n",
      "\n",
      "\n",
      " val_data and val_label: \n"
     ]
    },
    {
     "data": {
      "text/html": [
       "<div>\n",
       "<style scoped>\n",
       "    .dataframe tbody tr th:only-of-type {\n",
       "        vertical-align: middle;\n",
       "    }\n",
       "\n",
       "    .dataframe tbody tr th {\n",
       "        vertical-align: top;\n",
       "    }\n",
       "\n",
       "    .dataframe thead th {\n",
       "        text-align: right;\n",
       "    }\n",
       "</style>\n",
       "<table border=\"1\" class=\"dataframe\">\n",
       "  <thead>\n",
       "    <tr style=\"text-align: right;\">\n",
       "      <th></th>\n",
       "      <th>Tweet</th>\n",
       "      <th>Label</th>\n",
       "    </tr>\n",
       "  </thead>\n",
       "  <tbody>\n",
       "    <tr>\n",
       "      <th>0</th>\n",
       "      <td>Dark Souls 3 April Launch Date Confirmed With ...</td>\n",
       "      <td>1</td>\n",
       "    </tr>\n",
       "    <tr>\n",
       "      <th>1</th>\n",
       "      <td>\"National hot dog day, national tequila day, t...</td>\n",
       "      <td>2</td>\n",
       "    </tr>\n",
       "    <tr>\n",
       "      <th>2</th>\n",
       "      <td>When girls become bandwagon fans of the Packer...</td>\n",
       "      <td>0</td>\n",
       "    </tr>\n",
       "    <tr>\n",
       "      <th>3</th>\n",
       "      <td>@user I may or may not have searched it up on ...</td>\n",
       "      <td>1</td>\n",
       "    </tr>\n",
       "    <tr>\n",
       "      <th>4</th>\n",
       "      <td>Here's your starting TUESDAY MORNING Line up a...</td>\n",
       "      <td>1</td>\n",
       "    </tr>\n",
       "    <tr>\n",
       "      <th>...</th>\n",
       "      <td>...</td>\n",
       "      <td>...</td>\n",
       "    </tr>\n",
       "    <tr>\n",
       "      <th>1995</th>\n",
       "      <td>\"LONDON (AP) \"\" Prince George celebrates his s...</td>\n",
       "      <td>1</td>\n",
       "    </tr>\n",
       "    <tr>\n",
       "      <th>1996</th>\n",
       "      <td>Harper's Worst Offense against Refugees may be...</td>\n",
       "      <td>1</td>\n",
       "    </tr>\n",
       "    <tr>\n",
       "      <th>1997</th>\n",
       "      <td>Hold on... Sam Smith may do the theme to Spect...</td>\n",
       "      <td>2</td>\n",
       "    </tr>\n",
       "    <tr>\n",
       "      <th>1998</th>\n",
       "      <td>Gonna watch Final Destination 5 tonight. I alw...</td>\n",
       "      <td>1</td>\n",
       "    </tr>\n",
       "    <tr>\n",
       "      <th>1999</th>\n",
       "      <td>\"Interview with Devon Alexander \\\"\"\"\"Speed Kil...</td>\n",
       "      <td>1</td>\n",
       "    </tr>\n",
       "  </tbody>\n",
       "</table>\n",
       "<p>2000 rows × 2 columns</p>\n",
       "</div>"
      ],
      "text/plain": [
       "                                                  Tweet Label\n",
       "0     Dark Souls 3 April Launch Date Confirmed With ...     1\n",
       "1     \"National hot dog day, national tequila day, t...     2\n",
       "2     When girls become bandwagon fans of the Packer...     0\n",
       "3     @user I may or may not have searched it up on ...     1\n",
       "4     Here's your starting TUESDAY MORNING Line up a...     1\n",
       "...                                                 ...   ...\n",
       "1995  \"LONDON (AP) \"\" Prince George celebrates his s...     1\n",
       "1996  Harper's Worst Offense against Refugees may be...     1\n",
       "1997  Hold on... Sam Smith may do the theme to Spect...     2\n",
       "1998  Gonna watch Final Destination 5 tonight. I alw...     1\n",
       "1999  \"Interview with Devon Alexander \\\"\"\"\"Speed Kil...     1\n",
       "\n",
       "[2000 rows x 2 columns]"
      ]
     },
     "metadata": {},
     "output_type": "display_data"
    },
    {
     "name": "stdout",
     "output_type": "stream",
     "text": [
      "\n",
      "---------------------------------------------------------------------------\n",
      "\n",
      "\n",
      " mapping output: \n",
      "0\tnegative\n",
      "1\tneutral\n",
      "2\tpositive\n",
      "\n"
     ]
    }
   ],
   "source": [
    "def visualiser(tweetVar, labelVar):\n",
    "    tweet_array = []\n",
    "    label_array = []\n",
    "    for i in range(len(tweetVar)):\n",
    "        tweet_array.append({\"Tweet\" : tweetVar[i], \"Label\" : labelVar[i]})\n",
    "        label_array.append(i)\n",
    "    dataframe = pd.DataFrame(tweet_array, index=label_array)\n",
    "    dataframe = dataframe[:-1] # Drop last row, as is a blank\n",
    "    return dataframe\n",
    "\n",
    "testDataFrame = visualiser(test_text, test_labels)\n",
    "trainDataFrame = visualiser(train_text, train_labels)\n",
    "valDataFrame = visualiser(val_text, val_labels)\n",
    "\n",
    "print(\"\\n test_data and test_label: \")\n",
    "display(testDataFrame)\n",
    "print(\"\\n---------------------------------------------------------------------------\\n\")\n",
    "print(\"\\n train_data and train_label: \")\n",
    "display(trainDataFrame)\n",
    "print(\"\\n---------------------------------------------------------------------------\\n\")\n",
    "print(\"\\n val_data and val_label: \")\n",
    "display(valDataFrame)\n",
    "\n",
    "print(\"\\n---------------------------------------------------------------------------\\n\")\n",
    "print(\"\\n mapping output: \")\n",
    "for line in mapping:\n",
    "    print(line)"
   ]
  },
  {
   "cell_type": "markdown",
   "metadata": {},
   "source": [
    "#### Printing basic stats"
   ]
  },
  {
   "cell_type": "code",
   "execution_count": 5,
   "metadata": {},
   "outputs": [
    {
     "name": "stdout",
     "output_type": "stream",
     "text": [
      "The longest tweet in testData is 142 bytes long.\n",
      "The longest tweet in trainData is 201 bytes long.\n",
      "The longest tweet in valData is 171 bytes long.\n",
      "\n",
      "---------------------------------------------------------------------------\n",
      "\n",
      "The shortest tweet in testData is 7 bytes long.\n",
      "The shortest tweet in trainData is 11 bytes long.\n",
      "The shortest tweet in valData is 29 bytes long.\n",
      "\n",
      "\n"
     ]
    }
   ],
   "source": [
    "print(\"The longest tweet in testData is \" + str(testDataFrame.Tweet.str.len().max()) + \" bytes long.\")\n",
    "print(\"The longest tweet in trainData is \" + str(trainDataFrame.Tweet.str.len().max()) + \" bytes long.\")\n",
    "print(\"The longest tweet in valData is \" + str(valDataFrame.Tweet.str.len().max()) + \" bytes long.\")\n",
    "print(\"\\n---------------------------------------------------------------------------\\n\")\n",
    "\n",
    "print(\"The shortest tweet in testData is \" + str(testDataFrame.Tweet.str.len().min()) + \" bytes long.\")\n",
    "print(\"The shortest tweet in trainData is \" + str(trainDataFrame.Tweet.str.len().min()) + \" bytes long.\")\n",
    "print(\"The shortest tweet in valData is \" + str(valDataFrame.Tweet.str.len().min()) + \" bytes long.\")\n",
    "print(\"\\n\")\n"
   ]
  },
  {
   "cell_type": "markdown",
   "metadata": {},
   "source": [
    " ### Presenting data label split (negative vs positive vs neutral)"
   ]
  },
  {
   "cell_type": "code",
   "execution_count": 6,
   "metadata": {},
   "outputs": [],
   "source": [
    "categoryNames = [\"negative\", \"neutral\", \"positive\"]\n",
    "\n",
    "\n",
    "def mappingVariation(dataFrame):\n",
    "    CountArray = []\n",
    "    sentiment = dataFrame.Label.value_counts().sort_index()\n",
    "    \n",
    "    i = 0\n",
    "    for val in sentiment:\n",
    "        CountArray.append(val)\n",
    "        i += 1\n",
    "    return sentiment\n",
    "\n"
   ]
  },
  {
   "cell_type": "code",
   "execution_count": 7,
   "metadata": {},
   "outputs": [
    {
     "data": {
      "text/plain": [
       "<function matplotlib.pyplot.show(close=None, block=None)>"
      ]
     },
     "execution_count": 7,
     "metadata": {},
     "output_type": "execute_result"
    },
    {
     "data": {
      "image/png": "[encoded data removed]",
      "text/plain": [
       "<Figure size 825x825 with 1 Axes>"
      ]
     },
     "metadata": {},
     "output_type": "display_data"
    }
   ],
   "source": [
    "testDataFrameCount = mappingVariation(testDataFrame)\n",
    "mpl.figure(figsize=(3,3), dpi=275)\n",
    "mpl.pie(testDataFrameCount, labels=categoryNames, textprops={'fontsize':4}, autopct='%1.2f%%')\n",
    "mpl.suptitle('% Distribution of sentiment in test_data')\n",
    "mpl.show"
   ]
  },
  {
   "cell_type": "code",
   "execution_count": 8,
   "metadata": {},
   "outputs": [
    {
     "data": {
      "text/plain": [
       "<function matplotlib.pyplot.show(close=None, block=None)>"
      ]
     },
     "execution_count": 8,
     "metadata": {},
     "output_type": "execute_result"
    },
    {
     "data": {
      "image/png": "[encoded data removed]",
      "text/plain": [
       "<Figure size 825x825 with 1 Axes>"
      ]
     },
     "metadata": {},
     "output_type": "display_data"
    }
   ],
   "source": [
    "trainDataFrameCount = mappingVariation(trainDataFrame)\n",
    "mpl.figure(figsize=(3,3), dpi=275)\n",
    "mpl.pie(trainDataFrameCount, labels=categoryNames, textprops={'fontsize':4}, autopct='%1.2f%%')\n",
    "mpl.suptitle('% Distribution of sentiment in train_data')\n",
    "mpl.show"
   ]
  },
  {
   "cell_type": "code",
   "execution_count": 9,
   "metadata": {},
   "outputs": [
    {
     "data": {
      "text/plain": [
       "<function matplotlib.pyplot.show(close=None, block=None)>"
      ]
     },
     "execution_count": 9,
     "metadata": {},
     "output_type": "execute_result"
    },
    {
     "data": {
      "image/png": "[encoded data removed]",
      "text/plain": [
       "<Figure size 825x825 with 1 Axes>"
      ]
     },
     "metadata": {},
     "output_type": "display_data"
    }
   ],
   "source": [
    "valDataFrameCount = mappingVariation(valDataFrame)\n",
    "mpl.figure(figsize=(3,3), dpi=275)\n",
    "mpl.pie(valDataFrameCount, labels=categoryNames, textprops={'fontsize':4}, autopct='%1.2f%%')\n",
    "mpl.suptitle('% Distribution of sentiment in val_data')\n",
    "mpl.show"
   ]
  },
  {
   "cell_type": "markdown",
   "metadata": {},
   "source": [
    "# Natural Language Toolkit"
   ]
  },
  {
   "cell_type": "markdown",
   "metadata": {},
   "source": [
    " ### Testing out NLTK stopword removal"
   ]
  },
  {
   "cell_type": "code",
   "execution_count": 35,
   "metadata": {},
   "outputs": [
    {
     "name": "stderr",
     "output_type": "stream",
     "text": [
      "[nltk_data] Downloading package stopwords to\n",
      "[nltk_data]     C:\\Users\\gdark\\AppData\\Roaming\\nltk_data...\n",
      "[nltk_data]   Package stopwords is already up-to-date!\n"
     ]
    },
    {
     "name": "stdout",
     "output_type": "stream",
     "text": [
      "['@', 'user', '@', 'user', \"'\", '1/2', 'naked', 'pics', \"'\", 'anything', '?', 'They', \"'re\", 'even', 'like', '.']\n",
      "['OH', ':', '“', 'I', 'blue', 'penis', 'I', '”', '[', 'playing', 'Google', 'Earth', 'VR', ']']\n",
      "['@', 'user', '@', 'user', 'That', \"'s\", 'coming', ',', 'I', 'think', 'victims', 'going', 'Medicaid', 'recipients', '.']\n",
      "['I', 'think', 'I', 'may', 'finally', 'crowd', '#', 'mannequinchallenge', '#', 'grads2014', '@', 'user']\n",
      "['@', 'user', 'Wow', ',', 'first', 'Hugo', 'Chavez', 'Fidel', 'Castro', '.', 'Danny', 'Glover', ',', 'Michael', 'Moore', ',', 'Oliver', 'Stone', ',', 'Sean', 'Penn', 'running', 'heroes', '.']\n",
      "['Savchenko', 'Saakashvili', 'took', 'test', 'live', 'Ukraine', 'TV', '.', 'To', 'prove', 'drug-fueled', 'loonies', '?']\n",
      "['How', 'many', 'days', 'opening', 'day', '?', '😩']\n",
      "['Twitter', \"'s\", '#', 'ThankYouObama', 'Shows', 'Heartfelt', 'Gratitude', 'To', 'POTUS']\n",
      "['All', 'CSG', 'Fracking', 'around', 'Australia', 'cease', 'Mining', 'Entities', 'held', 'Accountable', '!', '-', 'Sign', 'Petition', '!']\n",
      "['@', 'user', '@', 'user', '@', 'user', '@', 'user', '@', 'user', '@', 'user', 'away', 'illegals', 'dead', 'people', 'Trump', 'wins', 'popular', 'vote', '.']\n",
      "['An', 'interesting', 'security', 'vulnerability', '-', 'albeit', 'everyday', 'car', 'thief']\n",
      "['#', 'GilmoreGirlsTop4', '1', '.', 'Spoke2', '.', 'Paris3', '.', 'Emily4', '.', 'PattyInvisible', 'number', '5', '.', 'Richard']\n",
      "['#', 'onedirection', '#', 'harrystyles', 'cute', 'little', 'dance', '😉']\n",
      "['When', 'Ryan', 'privatizes', 'SS', ',', 'Medicare', ',', 'Medicaid', ',', '&', 'away', 'ACA', ',', 'Trump', \"'s\", 'base', 'feel', '``', 'change', \"''\", '?', 'That', \"'s\", 'big', 'right', '?', '!']\n",
      "['Swampbitch', 'Nasty', 'Pelosi', 'loves', 'yelling', \"'Fire\", \"'\", 'crowded', 'swamp', '.', '#', 'blackfriday', '@', 'user']\n",
      "['@', 'user', 'ohhh', 'ok', 'see', '🤔', 'medical', 'marijuana', 'clearance', '?', 'Does', 'make', 'difference']\n",
      "['OPINION', ':', 'The', 'Anti-', '#', 'Trump', '#', 'Riots', 'Are', '#', 'SmokeScreen', ':']\n",
      "['ISIS', 'The', 'CIA', 'What', 'You', 'Need', 'To', 'Know', '!', '#', 'ISIS', '#', 'falseflag', '#', 'saudi', '#', 'CIA', '#', 'mossad', '#', 'israel']\n",
      "['@', 'user', 'alt-right', 'adopted', 'Deplorables', '.', 'Average', 'middle', 'Americans', '.', 'I', \"'ve\", 'moved', 'Libertarian', '.', '@', 'user']\n",
      "['@', 'user', '#', 'GilmoreGirlsTop4', 'Lorelai', ',', 'Rory', ',', 'Lane', ',', 'Sookie', '@', 'user', '@', 'user']\n",
      "['Christians', 'In', 'Palestine', ':', 'Yes', ',', 'They', 'Exist', '#', 'gaza', '#', 'palestine', '#', 'israel', '#', 'BDS']\n",
      "['@', 'user', 'Going', 'see', '#', 'FantasticBeasts', 'afternoon', '.', 'Mom', 'Potter', 'fanatic', '.', 'My', 'niece', ',', \"'s\", 'kinda', 'growing', '.']\n",
      "['Listen', 'win', 'passes', 'see', '#', 'FantasticBeasts', '2pm', 'w/', '@', 'user']\n",
      "['The', 'United', 'Nations', 'Headquarters', 'New', 'York', '#', 'unitednations', '#', 'newyork', '#', 'usa🇺🇸', '#', 'USA', '#', 'newyorkcity…']\n",
      "['Zac', 'Efron', 'Flaunts', 'Fit', 'Abs', 'New', '‘', 'Dirty', 'Grandpa', '’', '...', '#', 'ZacEfron']\n",
      "['1am', 'I', \"'m\", 'still', 'watching', '#', 'ThisIsUs']\n",
      "['The', 'left', 'really', 'gone', 'Full', 'retard', \"n't\", '?']\n",
      "['#', 'Israel', 'fire', 'updates', ':', 'Major', 'blaze', 'breaks', 'near', '#', 'Jerusalem', ',', 'firebombing', 'suspected', '...']\n",
      "['RT', '@', 'user', 'Can', 'I', 'politely', 'suggest', 'stop', 'using', 'term', '``', 'alt-right', \"''\", 'use', ',', 'precise', 'words', '.']\n",
      "['Day', '5', 'Advent', 'Gift', 'Countdown', '-', \"'Gold\", 'Standard', \"'\", '#', '20moresleeps', '#', 'christmasgifts', '#', 'luxuryhampers…']\n"
     ]
    }
   ],
   "source": [
    "from nltk.corpus import stopwords\n",
    "nltk.download('stopwords')\n",
    "\n",
    "\n",
    "for x in range(30):\n",
    "    noStopWords = \"\"\n",
    "    wordBag = word_tokenize(test_text[x])\n",
    "    noStopWords = [word for word in wordBag if not word in stopwords.words()]\n",
    "    print(noStopWords)"
   ]
  },
  {
   "cell_type": "markdown",
   "metadata": {},
   "source": [
    " ### Testing out NLTK stemming"
   ]
  },
  {
   "cell_type": "code",
   "execution_count": 36,
   "metadata": {},
   "outputs": [
    {
     "name": "stdout",
     "output_type": "stream",
     "text": [
      " @ user @ user what do these ' 1/2 nake pic ' have to do with anyth ? they 're not even like that .\n",
      " OH : “ I had a blue peni while I wa thi ” [ play with googl earth VR ]\n",
      " @ user @ user that 's come , but I think the victim are go to be medicaid recipi .\n",
      " I think I may be final in with the in crowd # mannequinchalleng # grads2014 @ user\n",
      " @ user wow , first hugo chavez and now fidel castro . danni glover , michael moor , oliv stone , and sean penn are run out of hero .\n",
      " savchenko now saakashvili took drug test live on ukrain TV . To prove they are not drug-fuel looni ?\n",
      " how mani more day until open day ? 😩\n",
      " twitter 's # thankyouobama show heartfelt gratitud To potu\n",
      " all csg and frack all around australia is to ceas and mine entiti held account ! - sign the petit !\n",
      " @ user @ user @ user @ user @ user @ user take away illeg and dead peopl and trump win popular vote too .\n",
      " An interest secur vulner - albeit not for the everyday car thief\n",
      " # gilmoregirlstop4 1 . spoke2 . paris3 . emily4 . pattyinvis number 5 . richard\n",
      " # onedirect # harrystyl cute littl danc 😉\n",
      " when ryan privat SS , medicar , medicaid , & doe away with aca , what will trump 's base feel about `` chang '' then ? that 's a big one right ? !\n",
      " swampbitch nasti pelosi love yell 'fire ' in the crowd swamp . # blackfriday @ user\n",
      " @ user ohhh ok i see 🤔 what if u have medic marijuana clearanc ? doe that make a differ\n",
      " opinion : the anti- # trump # riot are a # smokescreen :\n",
      " isi and the cia what you need To know ! # isi # falseflag # saudi # cia # mossad # israel\n",
      " @ user alt-right wa adopt by deplor . averag middl american . I 've now move to libertarian . @ user\n",
      " @ user # gilmoregirlstop4 lorelai , rori , lane , sooki @ user @ user\n",
      " christian In palestin : ye , they exist # gaza # palestin # israel # bd\n",
      " @ user go to see # fantasticbeast thi afternoon . mom is a potter fanat . My niec wa , but she 's kinda grow out of it .\n",
      " listen to win pass to see # fantasticbeast after 2pm w/ @ user\n",
      " the unit nation headquart in new york # unitedn # newyork # usa🇺🇸 # usa # newyorkcity…\n",
      " zac efron flaunt fit ab in new ‘ dirti grandpa ’ ... # zacefron\n",
      " 1am and I 'm still watch # thisisu\n",
      " the left ha realli gone full retard have n't they ?\n",
      " # israel fire updat : major blaze break out near # jerusalem , firebomb suspect ...\n",
      " RT @ user can I polit suggest that we all stop use the term `` alt-right '' and use other , more precis word .\n",
      " day 5 advent gift countdown - 'gold standard ' # 20moresleep # christmasgift # luxuryhampers…\n"
     ]
    }
   ],
   "source": [
    "from nltk.stem import PorterStemmer \n",
    "from nltk.tokenize import word_tokenize \n",
    "\n",
    "\n",
    "stemmer = PorterStemmer()\n",
    "\n",
    "\n",
    "for x in range(30):\n",
    "    stemmed = \"\"\n",
    "    wordBag = word_tokenize(test_text[x])\n",
    "    for y in range(len(wordBag)):\n",
    "        stemmed += \" \" + stemmer.stem(wordBag[y])\n",
    "    print(stemmed)\n"
   ]
  },
  {
   "cell_type": "code",
   "execution_count": null,
   "metadata": {},
   "outputs": [],
   "source": []
  },
  {
   "cell_type": "code",
   "execution_count": null,
   "metadata": {},
   "outputs": [],
   "source": []
  },
  {
   "cell_type": "code",
   "execution_count": null,
   "metadata": {},
   "outputs": [],
   "source": []
  },
  {
   "cell_type": "code",
   "execution_count": null,
   "metadata": {},
   "outputs": [],
   "source": []
  },
  {
   "cell_type": "code",
   "execution_count": null,
   "metadata": {},
   "outputs": [],
   "source": []
  }
 ],
 "metadata": {
  "kernelspec": {
   "display_name": "Python 3",
   "language": "python",
   "name": "python3"
  },
  "language_info": {
   "codemirror_mode": {
    "name": "ipython",
    "version": 3
   },
   "file_extension": ".py",
   "mimetype": "text/x-python",
   "name": "python",
   "nbconvert_exporter": "python",
   "pygments_lexer": "ipython3",
   "version": "3.8.5"
  }
 },
 "nbformat": 4,
 "nbformat_minor": 4
}
